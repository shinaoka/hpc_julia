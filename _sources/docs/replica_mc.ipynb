{
 "cells": [
  {
   "cell_type": "markdown",
   "metadata": {},
   "source": [
    "# Replica exchange Monte Carlo"
   ]
  },
  {
   "cell_type": "markdown",
   "metadata": {},
   "source": [
    "We consider exactly the same 1D ising model as in the previous section.\n",
    "In this section, we will how we implement the replica exchange Monte Carlo method."
   ]
  },
  {
   "cell_type": "code",
   "execution_count": 91,
   "metadata": {},
   "outputs": [
    {
     "name": "stdout",
     "output_type": "stream",
     "text": [
      "VERSION = v\"1.5.2\"\n"
     ]
    }
   ],
   "source": [
    "@show VERSION\n",
    "using BenchmarkTools, Random, Revise"
   ]
  },
  {
   "cell_type": "markdown",
   "metadata": {},
   "source": [
    "## Preparation\n",
    "We now repeat the implementation of the single-spin-flip update and measurement given in the previous section.\n",
    "You can save these codes in mc.jl and include it in the following cell.\n",
    "Here, we use **includet** in Revise.jl instead of **include** in the standard library.\n",
    "**includet** tracks any changes the included file and reload the code if any.\n",
    "\n",
    "Please download [mc.jl](./mc.jl) and [meas.jl](./meas.jl) and save them in your working directory."
   ]
  },
  {
   "cell_type": "code",
   "execution_count": 96,
   "metadata": {},
   "outputs": [],
   "source": [
    "includet(\"mc.jl\")\n",
    "includet(\"meas.jl\")"
   ]
  },
  {
   "cell_type": "code",
   "execution_count": 100,
   "metadata": {},
   "outputs": [
    {
     "data": {
      "text/plain": [
       "solve! (generic function with 1 method)"
      ]
     },
     "execution_count": 100,
     "metadata": {},
     "output_type": "execute_result"
    }
   ],
   "source": [
    "function solve!(ss, acc, β, nsteps, ntherm_steps, interval_meas, rng)\n",
    "    # 1 Monte Carlo step = 1 sweep through the system\n",
    "    num_sweeps_per_step = 1\n",
    "    \n",
    "    # Thermalization steps\n",
    "    MC.update!(ss, β, ntherm_steps, rng)\n",
    "    \n",
    "    # Measurement steps\n",
    "    for istep in 1:nsteps\n",
    "        MC.update!(ss, β, num_sweeps_per_step, rng)\n",
    "        if mod(istep, interval_meas) != 0\n",
    "            continue\n",
    "        end\n",
    "        Meas.add!(acc, \"E\", Float64(ss.energy))\n",
    "        Meas.add!(acc, \"E2\", Float64(ss.energy)^2)\n",
    "        MC.sanity_check(ss)\n",
    "    end\n",
    "end"
   ]
  },
  {
   "cell_type": "markdown",
   "metadata": {},
   "source": [
    "### Replica Exchange Monte Carlo\n",
    "\n",
    "In the replica exchange Monte Carlo method,\n",
    "exchanges between two replicas with different inverse temperatures $\\beta_1$ and $\\beta_2$ are accepted with the probability\n",
    "\n",
    "$$\n",
    "P_\\mathrm{ex} = \\mathrm{min}\\Big\\{1, e^{(\\beta_1-\\beta_2)(E_1 - E_2)} \\Big\\},\n",
    "$$\n",
    "\n",
    "where $E_1$ and $E_2$ are the energies of the two replicas."
   ]
  },
  {
   "cell_type": "code",
   "execution_count": 35,
   "metadata": {},
   "outputs": [
    {
     "data": {
      "text/plain": [
       "rex!"
      ]
     },
     "execution_count": 35,
     "metadata": {},
     "output_type": "execute_result"
    }
   ],
   "source": [
    "\"\"\"\n",
    "Replica exchante update between the i-th and j-the replicas.\n",
    "\"\"\"\n",
    "function rex!(βs, replicas, i, j, rng)\n",
    "    prop_ex = exp((βs[i]-βs[j])*(replicas[i].energy-replicas[j].energy))\n",
    "    if rand(rng) < prop_ex\n",
    "        replicas[i], replicas[j] = replicas[j], replicas[i]\n",
    "    end\n",
    "end"
   ]
  },
  {
   "cell_type": "code",
   "execution_count": 81,
   "metadata": {},
   "outputs": [
    {
     "data": {
      "text/plain": [
       "solve_rex! (generic function with 1 method)"
      ]
     },
     "execution_count": 81,
     "metadata": {},
     "output_type": "execute_result"
    }
   ],
   "source": [
    "function solve_rex!(replicas, accumulators, βs, nsweeps, ntherm, interval_meas, rng)\n",
    "    if mod(nsweeps, interval_meas) != 0\n",
    "        error(\"nsweeps cannot be divided by interval_meas!\")\n",
    "    end\n",
    "    num_replicas = length(βs)\n",
    "    \n",
    "    # Do interval_meas sweeps and one rex step \n",
    "    function do_sweeps()\n",
    "        for i in 1:num_replicas\n",
    "            MC.update!(replicas[i], βs[i], interval_meas, rng)\n",
    "        end\n",
    "        #for i in 1:num_replicas-1\n",
    "        #    rex!(βs, replicas, i, i+1, rng)\n",
    "        #end\n",
    "    end\n",
    "\n",
    "    # Thermalization steps\n",
    "    for _ in 1:(ntherm//interval_meas)\n",
    "        do_sweeps()\n",
    "    end\n",
    "    \n",
    "    # Measurement steps\n",
    "    for imeas in 1:(nsweeps//interval_meas)\n",
    "        do_sweeps()\n",
    "        for i in 1:num_replicas\n",
    "            Meas.add!(accumulators[i], \"E\", Float64(replicas[i].energy))\n",
    "            Meas.add!(accumulators[i], \"E2\", Float64(replicas[i].energy)^2)\n",
    "        end\n",
    "    end\n",
    "end"
   ]
  },
  {
   "cell_type": "code",
   "execution_count": 88,
   "metadata": {},
   "outputs": [],
   "source": [
    "nsweeps = 10^7\n",
    "interval_meas = 10\n",
    "ntherm = nsweeps//10\n",
    "\n",
    "numβ = 10\n",
    "Ts_mc = collect(range(0.4, 0.5, length=numβ))\n",
    "βs = 1 ./ Ts_mc\n",
    "\n",
    "# Construct nβ replicas and accumulators\n",
    "replicas = collect((MC.SpinState(s0) for _ in 1:numβ))\n",
    "accumulators = collect((Meas.Accumulator() for _ in 1:numβ))\n",
    "\n",
    "solve_rex!(replicas, accumulators, βs, nsweeps, ntherm, interval_meas, rng)"
   ]
  },
  {
   "cell_type": "code",
   "execution_count": 89,
   "metadata": {},
   "outputs": [],
   "source": [
    "C_mc = collect((Meas.mean(acc, \"E2\") - Meas.mean(acc, \"E\")^2 for acc in accumulators)) .* (βs.^2);"
   ]
  },
  {
   "cell_type": "markdown",
   "metadata": {},
   "source": [
    "Let us compare Monte Carlo results with the exact solution $C/N = \\frac{1}{T^2 \\cosh^2(1/T)}$."
   ]
  },
  {
   "cell_type": "code",
   "execution_count": 90,
   "metadata": {},
   "outputs": [
    {
     "data": {
      "image/png": "[encoded data removed]",
      "text/plain": [
       "Figure(PyObject <Figure size 640x480 with 1 Axes>)"
      ]
     },
     "metadata": {},
     "output_type": "display_data"
    }
   ],
   "source": [
    "using PyPlot\n",
    "Ts = range(0.1, 2, length=100)\n",
    "exact_C(T) = 1/(T * cosh(1/T))^2\n",
    "plt.plot(Ts, exact_C.(Ts), label=\"Exact\")\n",
    "plt.plot(Ts_mc, C_mc ./ num_spins, label=\"MC\", marker=\"o\")\n",
    "plt.xlabel(raw\"$T$\")\n",
    "plt.ylabel(raw\"$C/N$\")\n",
    "plt.xlim([0, nothing])\n",
    "plt.ylim([0, nothing])\n",
    "plt.legend()\n",
    ";"
   ]
  }
 ],
 "metadata": {
  "kernelspec": {
   "display_name": "Julia 1.5.2",
   "language": "julia",
   "name": "julia-1.5"
  },
  "language_info": {
   "file_extension": ".jl",
   "mimetype": "application/julia",
   "name": "julia",
   "version": "1.5.2"
  }
 },
 "nbformat": 4,
 "nbformat_minor": 4
}
