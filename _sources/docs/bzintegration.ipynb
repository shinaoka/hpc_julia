{
 "cells": [
  {
   "cell_type": "markdown",
   "metadata": {},
   "source": [
    "# BZ integration"
   ]
  },
  {
   "cell_type": "code",
   "execution_count": 1,
   "metadata": {},
   "outputs": [],
   "source": [
    "using PyPlot\n",
    "using Cuba"
   ]
  },
  {
   "cell_type": "markdown",
   "metadata": {},
   "source": [
    "We want to perform numerical integralation of vector data over the BZ zone.\n",
    "This is not aways easy because the integrand can vary rapidly in small regions.\n",
    "Here, adaptive integral kicks in.\n",
    "For instance, we can integrate a function which evaluate to two normal distributions with different variances on the three-dimensional unit hypercube $[0,1]^3$."
   ]
  },
  {
   "cell_type": "code",
   "execution_count": 2,
   "metadata": {},
   "outputs": [
    {
     "data": {
      "text/plain": [
       "Components:\n",
       " 1: 0.12499894817062472 ± 7.896673363781687e-6 (prob.: 1.1102230246251565e-16)\n",
       " 2: 0.12499977121633674 ± 8.42146746466239e-6 (prob.: 0.0)\n",
       "Integrand evaluations: 15875\n",
       "Number of subregions:  63\n",
       "Note: The desired accuracy was reached"
      ]
     },
     "execution_count": 2,
     "metadata": {},
     "output_type": "execute_result"
    }
   ],
   "source": [
    "norm_dist(x, σ) = exp(-sum(x.^2)/(2*σ^2))/(σ*sqrt(2π))^3\n",
    "function norm_dist_v(x, f)\n",
    "    f[1] = norm_dist(x, 0.01)\n",
    "    f[2] = norm_dist(x, 0.001)\n",
    "end\n",
    "cuhre(norm_dist_v, 3, 2)"
   ]
  },
  {
   "cell_type": "markdown",
   "metadata": {},
   "source": [
    "As a simple example, we consider a multi-orbital model with a cos-like band dispersion:\n",
    "\n",
    "$$\n",
    "\\epsilon(b, k_x, k_y, k_z) = 2 \\cos(k_x) + 2 \\cos(k_y) + 2 \\cos(k_z) + \\epsilon_0(b).\n",
    "$$\n",
    "\n",
    "The corresponding orbital occupation is given by\n",
    "\n",
    "$$\n",
    "n(b, k_x, k_y, k_z) = \\frac{1}{(2\\pi)^3} \\int_{-\\pi}^\\pi dk_x dk_y dk_z \\frac{1}{1+\\exp(\\beta \\epsilon(b, k_x, k_y, k_z))}.\n",
    "$$\n",
    "\n",
    "It is hard to integrate the orbital occupation at low $T$.\n",
    "\n",
    "First, we define `mycuhre` for numerical integraion on a general hypercube."
   ]
  },
  {
   "cell_type": "code",
   "execution_count": 3,
   "metadata": {},
   "outputs": [
    {
     "data": {
      "text/plain": [
       "Components:\n",
       " 1: 1.000144412485981 ± 9.93436986411435e-5 (prob.: 0.0)\n",
       " 2: 1.0000371976250122 ± 9.98556800753735e-5 (prob.: 1.1102230246251565e-16)\n",
       "Integrand evaluations: 226187\n",
       "Number of subregions:  891\n",
       "Note: The desired accuracy was reached"
      ]
     },
     "execution_count": 3,
     "metadata": {},
     "output_type": "execute_result"
    }
   ],
   "source": [
    "function mycuhre(integrand, ndim, ncomp, xmin, xmax)\n",
    "    function integrand_scaled(x, f)\n",
    "        integrand((xmax - xmin)*x .+ xmin, f)\n",
    "        f .*= (xmax - xmin)^ndim\n",
    "    end\n",
    "    cuhre(integrand_scaled, ndim, ncomp, maxevals=100000000)\n",
    "end\n",
    "\n",
    "mycuhre(norm_dist_v, 3, 2, -1, 1)"
   ]
  },
  {
   "cell_type": "markdown",
   "metadata": {},
   "source": [
    "This works great at high $T$. But, if we increase $\\beta$ to 100, you will not get correct results in the following cell."
   ]
  },
  {
   "cell_type": "code",
   "execution_count": 4,
   "metadata": {},
   "outputs": [
    {
     "name": "stdout",
     "output_type": "stream",
     "text": [
      "Components:\n",
      " 1: 127.56384239093332 ± 0.012745344451511759 (prob.: 0.0)\n",
      " 2: 124.02479357916016 ± 0.012127496929582178 (prob.: 0.0)\n",
      " 3: 120.48675897098559 ± 0.012034784667174454 (prob.: 0.0)\n",
      "Integrand evaluations: 639191\n",
      "Number of subregions:  2517\n",
      "Note: The desired accuracy was reached\n",
      "[0.5142662069128023, 0.4999987375860929, 0.48573535696216874]\n"
     ]
    }
   ],
   "source": [
    "β = 10.0\n",
    "ϵ0 = [-0.1, 0.0, 0.1]\n",
    "\n",
    "fdist(ϵ) = 1/(1 + exp(β*ϵ))\n",
    "ek(kx, ky, kz) = 2 * (cos(kx) + cos(ky) + cos(kz)) .+ ϵ0\n",
    "nk(kx, ky, kz) = fdist.(ek(kx, ky, kz))\n",
    "\n",
    "r = mycuhre( (x,f)->f.=nk(x...), 3, length(ϵ0), -π, π)\n",
    "println(r)\n",
    "println(r[1]/(2π)^3)"
   ]
  },
  {
   "cell_type": "markdown",
   "metadata": {},
   "source": [
    "This is because the orbital occupation is a nearly step function. See below."
   ]
  },
  {
   "cell_type": "code",
   "execution_count": 5,
   "metadata": {},
   "outputs": [
    {
     "data": {
      "image/png": "[encoded data removed]",
      "text/plain": [
       "Figure(PyObject <Figure size 640x480 with 1 Axes>)"
      ]
     },
     "metadata": {},
     "output_type": "display_data"
    }
   ],
   "source": [
    "β = 100.0\n",
    "kxs = range(-π, π, length=1000)\n",
    "ys = [nk(kx, 0.5π, 0.2) for kx in kxs]\n",
    "plt.plot(kxs, ys)\n",
    "plt.xlabel(raw\"$k_x$\")\n",
    ";"
   ]
  },
  {
   "cell_type": "markdown",
   "metadata": {},
   "source": [
    "A commonstrategy is to use **the tetrahedron method**.\n",
    "The tetrahedron method relys on linear interpolation of band dispersions, which are very smooth functions.\n",
    "In this note, however, we strick to adaptive numerical integration.\n",
    "Our strategy is to integrate out wave vectors one by one."
   ]
  },
  {
   "cell_type": "code",
   "execution_count": 6,
   "metadata": {},
   "outputs": [
    {
     "data": {
      "text/plain": [
       "([0.7508236899342619, 0.3874311949621099, 0.00043305916104926113], [2.08208417964383e-11, 1.7437834083154254e-9, 4.95352590822916e-18])"
      ]
     },
     "execution_count": 6,
     "metadata": {},
     "output_type": "execute_result"
    }
   ],
   "source": [
    "using Cubature\n",
    "hquadrature(length(ϵ0), (x,f)->f.=nk(x[1], 0.5π, 0.2), -π, π)"
   ]
  },
  {
   "cell_type": "code",
   "execution_count": 53,
   "metadata": {},
   "outputs": [
    {
     "data": {
      "text/plain": [
       "adaptive_bz_integration (generic function with 1 method)"
      ]
     },
     "execution_count": 53,
     "metadata": {},
     "output_type": "execute_result"
    }
   ],
   "source": [
    "function adaptive_bz_integration(integrand, ncomp)\n",
    "    function integrand_kxky(kxky, f)\n",
    "        kx, ky = kxky\n",
    "        v, e = hquadrature(ncomp, (x,f_)->integrand([kx, ky, x[1]], f_), -π, π)\n",
    "        f .= v\n",
    "    end\n",
    "    function integrand_kx(kx, f)\n",
    "        v, e = hquadrature(ncomp, (x,f_)->integrand_kxky([kx, x[1]],f_), -π, π)\n",
    "        f .= v\n",
    "    end\n",
    "    hquadrature(ncomp, (x,f)->integrand_kx(x[1],f), -π, π)\n",
    "end"
   ]
  },
  {
   "cell_type": "code",
   "execution_count": 56,
   "metadata": {},
   "outputs": [
    {
     "name": "stdout",
     "output_type": "stream",
     "text": [
      " 91.002551 seconds (1.78 G allocations: 49.263 GiB, 6.58% gc time)\n"
     ]
    },
    {
     "data": {
      "text/plain": [
       "([0.5142690494629448, 0.49999999999734934, 0.48573095052886617], [3.5679912142253788e-9, 4.4316624753774944e-10, 2.888566998015395e-13])"
      ]
     },
     "execution_count": 56,
     "metadata": {},
     "output_type": "execute_result"
    }
   ],
   "source": [
    "β = 10.0\n",
    "@time res = adaptive_bz_integration((x,f)->f.=nk(x...), length(ϵ0))\n",
    "res ./(2π)^3"
   ]
  },
  {
   "cell_type": "code",
   "execution_count": null,
   "metadata": {},
   "outputs": [],
   "source": [
    "#β = 100.0\n",
    "#@time res = adaptive_bz_integration((x,f)->f.=nk(x...), length(ϵ0))\n",
    "#res ./(2π)^3"
   ]
  },
  {
   "cell_type": "code",
   "execution_count": null,
   "metadata": {},
   "outputs": [],
   "source": []
  }
 ],
 "metadata": {
  "kernelspec": {
   "display_name": "Julia 1.5.2",
   "language": "julia",
   "name": "julia-1.5"
  },
  "language_info": {
   "file_extension": ".jl",
   "mimetype": "application/julia",
   "name": "julia",
   "version": "1.5.2"
  }
 },
 "nbformat": 4,
 "nbformat_minor": 4
}
