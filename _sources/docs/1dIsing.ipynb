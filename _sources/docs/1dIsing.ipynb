{
 "cells": [
  {
   "cell_type": "markdown",
   "metadata": {},
   "source": [
    "# 1Dイジング模型"
   ]
  },
  {
   "cell_type": "markdown",
   "metadata": {},
   "source": [
    "ここでは次の1次元強磁性ハイゼンベルグ模型を考えます。\n",
    "\n",
    "$$\n",
    "\\mathcal{H} = -\\sum_i S_i S_{i+1}.\n",
    "$$\n",
    "\n",
    "前章の解説に従って、$i$番目のスピンを更新するとき、\n",
    "2つの状態間のエネルギー差は$\\Delta E = E_\\uparrow - E_\\downarrow = - 2h$\n",
    "と計算出来ます。\n",
    "ここで、$h = S_{i-1} + S_{i+1}$は$i$番目のサイト以外のスピンが、$i$番目のスピンに及ぼす有効磁場です。\n",
    "最後に、$1/(1+\\exp(\\beta \\Delta E ))$の確率で、$S_i=1$を採択します。\n",
    "\n",
    "なお、指数関数の計算は重いので（かけ算とかに比べ）、予め指数関数の値は計算して保存しておきます。"
   ]
  },
  {
   "cell_type": "code",
   "execution_count": 2,
   "metadata": {},
   "outputs": [
    {
     "name": "stdout",
     "output_type": "stream",
     "text": [
      "VERSION = v\"1.5.2\"\n"
     ]
    }
   ],
   "source": [
    "@show VERSION\n",
    "using BenchmarkTools, Random"
   ]
  },
  {
   "cell_type": "markdown",
   "metadata": {},
   "source": [
    "## 最初の実装\n",
    "以下の実装を見てみましょう。ising1d!という関数は、スピンあたりniters回のスピン更新を行います。\n",
    "関数は最初に呼び出したにコンパイルされます。\n",
    "実行速度を正しく計測するには、一回呼び出してからにしましょう。\n",
    "BenchmarkTools中の@benchmarkを使えば、自動的に複数回呼び出して計測してくれます。\n",
    "\n",
    "### 演習問題\n",
    "\n",
    "毎回指数関数の値を計算する場合、どの程度性能が悪化するか確認してみましょう。"
   ]
  },
  {
   "cell_type": "code",
   "execution_count": 8,
   "metadata": {},
   "outputs": [
    {
     "name": "stdout",
     "output_type": "stream",
     "text": [
      "  0.000545 seconds (1 allocation: 128 bytes)\n"
     ]
    },
    {
     "data": {
      "text/plain": [
       "BenchmarkTools.Trial: \n",
       "  memory estimate:  128 bytes\n",
       "  allocs estimate:  1\n",
       "  --------------\n",
       "  minimum time:     414.057 μs (0.00% GC)\n",
       "  median time:      433.385 μs (0.00% GC)\n",
       "  mean time:        465.491 μs (0.00% GC)\n",
       "  maximum time:     1.232 ms (0.00% GC)\n",
       "  --------------\n",
       "  samples:          10000\n",
       "  evals/sample:     1"
      ]
     },
     "execution_count": 8,
     "metadata": {},
     "output_type": "execute_result"
    }
   ],
   "source": [
    "function ising1d!(s, β, niters, rng)\n",
    "    n = length(s)\n",
    "    min_h = -2\n",
    "    max_h = 2\n",
    "    prob = [1/(1+exp(-2*β*h)) for h in min_h:max_h]\n",
    "    for iter in 1:niters, i in 1:n\n",
    "        sl = s[ifelse(i == 1, n, i-1)]\n",
    "        sr = s[ifelse(i == n, 1, i+1)]\n",
    "        # h = -2, 0, 2\n",
    "        h = sl + sr\n",
    "        si_old = s[i]\n",
    "        s[i] = ifelse(rand(rng) < prob[h-min_h+1], +1, -1)\n",
    "    end\n",
    "end\n",
    "\n",
    "n = 100\n",
    "rng = MersenneTwister(4649)\n",
    "s0 = rand(rng, Int8[-1, 1], n)\n",
    "β = 100.0\n",
    "niters = 10^3\n",
    "\n",
    "s = copy(s0)\n",
    "\n",
    "# Run once to compile the function\n",
    "ising1d!(s, β, niters, rng)\n",
    "\n",
    "@time ising1d!(s, β, niters, rng)\n",
    "@benchmark ising1d!(s, β, niters, rng) setup=(s = copy(s0))"
   ]
  },
  {
   "cell_type": "markdown",
   "metadata": {},
   "source": [
    "## 物理量計測込みの実装\n",
    "\n",
    "では、次に物理量（磁化、エネルギー)の計算を含めたプログラムを書いてみます。\n",
    "ここで重要な点は、磁化、エネルギーの値は、スピン状態の更新と同時に、差分で更新する点です。\n",
    "この更新は、(スピン更新と同じ)$O(1)$の計算量ですみますが、\n",
    "定義に従って最初から計算し直すと$O(N)$の計算量がかかってしまいます。\n",
    "\n",
    "以下のコードはmodule MCの中に囲っています。\n",
    "moduleの中に入れない場合、構造体structの再定義が許されないため、\n",
    "コードを書くときの試行錯誤の妨げになるからです。\n",
    "\n",
    "SpinStateはスピン状態を表すstructで、磁化、エネルギーの値も同時に保存しています。\n",
    "スピン状態やこれらの物理量が常にconsistentであることを保証して計算を進めます。\n",
    "\n",
    "エネルギー、磁化を計算する関数をそれぞれ定義し、SpinStateオブジェクトの生成、\n",
    "状態更新前後のconsistencyのチェックに利用しています。"
   ]
  },
  {
   "cell_type": "code",
   "execution_count": 4,
   "metadata": {},
   "outputs": [],
   "source": [
    "# Wrap everything with a module to allow redefition of type\n",
    "module MC\n",
    "\n",
    "\"\"\"\n",
    "Composite type to represent a spin state\n",
    "\"\"\"\n",
    "mutable struct SpinState\n",
    "    num_spins::Int\n",
    "    s::Array{Int8,1}\n",
    "    energy::Int\n",
    "    tot_mag::Int\n",
    "end\n",
    "\n",
    "\"\"\"\n",
    "Energy\n",
    "\"\"\"\n",
    "function energy(s)\n",
    "    n = length(s)\n",
    "    - sum((s[i] * s[ifelse(i == n, 1, i+1)] for i in 1:n))\n",
    "end\n",
    "\n",
    "\"\"\"\n",
    "Total magnetization\n",
    "\"\"\"\n",
    "total_magnetization(s) = sum(s)\n",
    "\n",
    "\"\"\"\n",
    "Constructor\n",
    "\"\"\"\n",
    "function SpinState(s)\n",
    "    ss = SpinState(length(s), copy(s), energy(s), total_magnetization(s))\n",
    "    sanity_check(ss)\n",
    "    ss\n",
    "end\n",
    "\n",
    "\"\"\"\n",
    "Sanity check\n",
    "\"\"\"\n",
    "function sanity_check(ss)\n",
    "    @assert energy(ss.s) == ss.energy\n",
    "    @assert total_magnetization(ss.s) == ss.tot_mag\n",
    "end\n",
    "\n",
    "\"\"\"\n",
    "Take an object of SpinState as an input and update it in place.\n",
    "\"\"\"\n",
    "function update!(ss, β, niters, rng)\n",
    "    min_h = -2\n",
    "    max_h = 2\n",
    "    s = ss.s\n",
    "    n = ss.num_spins\n",
    "    prob = [1/(1+exp(-2*β*h)) for h in min_h:max_h]\n",
    "    for iter in 1:niters, i in 1:n\n",
    "        sl = s[ifelse(i == 1, n, i-1)]\n",
    "        sr = s[ifelse(i == n, 1, i+1)]\n",
    "        # h = -2, 0, 2\n",
    "        h = sl + sr\n",
    "        si_old = s[i]\n",
    "        s[i] = ifelse(rand(rng) < prob[h-min_h+1], +1, -1)\n",
    "        \n",
    "        # Update observables with O(1) operations\n",
    "        ss.energy += (si_old - s[i]) * h\n",
    "        ss.tot_mag += (s[i] - si_old)\n",
    "    end\n",
    "end\n",
    "\n",
    "end\n",
    ";"
   ]
  },
  {
   "cell_type": "markdown",
   "metadata": {},
   "source": [
    "OK, create an updater object and run it, and check if a spin state is updated correctly."
   ]
  },
  {
   "cell_type": "code",
   "execution_count": 5,
   "metadata": {},
   "outputs": [],
   "source": [
    "ss = MC.SpinState(s0)\n",
    "MC.update!(ss, β, niters, rng)\n",
    "MC.sanity_check(ss)"
   ]
  },
  {
   "cell_type": "code",
   "execution_count": 6,
   "metadata": {},
   "outputs": [
    {
     "data": {
      "text/plain": [
       "BenchmarkTools.Trial: \n",
       "  memory estimate:  128 bytes\n",
       "  allocs estimate:  1\n",
       "  --------------\n",
       "  minimum time:     436.042 μs (0.00% GC)\n",
       "  median time:      467.521 μs (0.00% GC)\n",
       "  mean time:        474.420 μs (0.00% GC)\n",
       "  maximum time:     1.285 ms (0.00% GC)\n",
       "  --------------\n",
       "  samples:          10000\n",
       "  evals/sample:     1"
      ]
     },
     "execution_count": 6,
     "metadata": {},
     "output_type": "execute_result"
    }
   ],
   "source": [
    "@benchmark MC.update!(ss, β, niters, rng)"
   ]
  },
  {
   "cell_type": "markdown",
   "metadata": {},
   "source": [
    "## Exercise\n",
    "Implement measurement of the magnetization and specific heat \n",
    "and compare the results with the exact ones!\n",
    "(To do) Include analytic expressions"
   ]
  }
 ],
 "metadata": {
  "kernelspec": {
   "display_name": "Julia 1.5.2",
   "language": "julia",
   "name": "julia-1.5"
  },
  "language_info": {
   "file_extension": ".jl",
   "mimetype": "application/julia",
   "name": "julia",
   "version": "1.5.2"
  }
 },
 "nbformat": 4,
 "nbformat_minor": 4
}
