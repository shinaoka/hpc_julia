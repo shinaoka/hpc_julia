{
 "cells": [
  {
   "cell_type": "markdown",
   "metadata": {},
   "source": [
    "# 1Dイジング模型"
   ]
  },
  {
   "cell_type": "markdown",
   "metadata": {},
   "source": [
    "ここでは次の1次元強磁性ハイゼンベルグ模型を考えます。\n",
    "\n",
    "$$\n",
    "\\mathcal{H} = -\\sum_i S_i S_{i+1}.\n",
    "$$\n",
    "\n",
    "前章の解説に従って、$i$番目のスピンを更新するとき、\n",
    "2つの状態間のエネルギー差は$\\Delta E = E_\\uparrow - E_\\downarrow = - 2h$\n",
    "と計算出来ます。\n",
    "ここで、$h = S_{i-1} + S_{i+1}$は$i$番目のサイト以外のスピンが、$i$番目のスピンに及ぼす有効磁場です。\n",
    "最後に、$1/(1+\\exp(\\beta \\Delta E ))$の確率で、$S_i=1$を採択します。\n",
    "\n",
    "なお、指数関数の計算は重いので（かけ算とかに比べ）、予め指数関数の値は計算して保存しておきます。"
   ]
  },
  {
   "cell_type": "code",
   "execution_count": 2,
   "metadata": {},
   "outputs": [
    {
     "name": "stdout",
     "output_type": "stream",
     "text": [
      "VERSION = v\"1.5.2\"\n"
     ]
    }
   ],
   "source": [
    "@show VERSION\n",
    "using BenchmarkTools, Random"
   ]
  },
  {
   "cell_type": "markdown",
   "metadata": {},
   "source": [
    "## 最初の実装\n",
    "以下の実装を見てみましょう。ising1d!という関数は、スピンあたりniters回のスピン更新を行います。\n",
    "関数は最初に呼び出した時にコンパイルされます。\n",
    "実行速度を正しく計測するには、一回呼び出してからにしましょう。\n",
    "BenchmarkTools中の@benchmarkを使えば、自動的に複数回呼び出して計測してくれます。\n",
    "\n",
    "### 演習問題\n",
    "\n",
    "毎回指数関数の値を計算する場合、どの程度性能が悪化するか確認してみましょう。"
   ]
  },
  {
   "cell_type": "code",
   "execution_count": 3,
   "metadata": {},
   "outputs": [
    {
     "name": "stdout",
     "output_type": "stream",
     "text": [
      "  0.000489 seconds (1 allocation: 128 bytes)\n"
     ]
    },
    {
     "data": {
      "text/plain": [
       "BenchmarkTools.Trial: \n",
       "  memory estimate:  128 bytes\n",
       "  allocs estimate:  1\n",
       "  --------------\n",
       "  minimum time:     414.248 μs (0.00% GC)\n",
       "  median time:      443.680 μs (0.00% GC)\n",
       "  mean time:        486.341 μs (0.00% GC)\n",
       "  maximum time:     1.401 ms (0.00% GC)\n",
       "  --------------\n",
       "  samples:          10000\n",
       "  evals/sample:     1"
      ]
     },
     "execution_count": 3,
     "metadata": {},
     "output_type": "execute_result"
    }
   ],
   "source": [
    "function ising1d!(s, β, niters, rng)\n",
    "    n = length(s)\n",
    "    min_h = -2\n",
    "    max_h = 2\n",
    "    prob = [1/(1+exp(-2*β*h)) for h in min_h:max_h]\n",
    "    for iter in 1:niters, i in 1:n\n",
    "        sl = s[ifelse(i == 1, n, i-1)]\n",
    "        sr = s[ifelse(i == n, 1, i+1)]\n",
    "        # h = -2, 0, 2\n",
    "        h = sl + sr\n",
    "        si_old = s[i]\n",
    "        s[i] = ifelse(rand(rng) < prob[h-min_h+1], +1, -1)\n",
    "    end\n",
    "end\n",
    "\n",
    "num_spins = 100\n",
    "rng = MersenneTwister(4649)\n",
    "s0 = rand(rng, Int8[-1, 1], num_spins)\n",
    "β = 100.0\n",
    "niters = 10^3\n",
    "\n",
    "s = copy(s0)\n",
    "\n",
    "# Run once to compile the function\n",
    "ising1d!(s, β, niters, rng)\n",
    "\n",
    "@time ising1d!(s, β, niters, rng)\n",
    "@benchmark ising1d!(s, β, niters, rng) setup=(s = copy(s0))"
   ]
  },
  {
   "cell_type": "markdown",
   "metadata": {},
   "source": [
    "## 物理量計測込みの実装\n",
    "\n",
    "では、次に物理量（磁化、エネルギー)の計算を含めたプログラムを書いてみます。\n",
    "ここで重要な点は、磁化、エネルギーの値は、スピン状態の更新と同時に、差分で更新する点です。\n",
    "この更新は、(スピン更新と同じ)$O(1)$の計算量ですみますが、\n",
    "定義に従って最初から計算し直すと$O(N)$の計算量がかかってしまいます。\n",
    "\n",
    "以下のコードはmodule MCの中に囲っています。\n",
    "moduleの中に入れない場合、構造体structの再定義が許されないため、\n",
    "コードを書くときの試行錯誤の妨げになるからです。\n",
    "\n",
    "SpinStateはスピン状態を表すstructで、磁化、エネルギーの値も同時に保存しています。\n",
    "スピン状態やこれらの物理量が常にconsistentであることを保証して計算を進めます。\n",
    "\n",
    "エネルギー、磁化を計算する関数をそれぞれ定義し、SpinStateオブジェクトの生成、\n",
    "状態更新前後のconsistencyのチェックに利用しています。"
   ]
  },
  {
   "cell_type": "code",
   "execution_count": 4,
   "metadata": {},
   "outputs": [],
   "source": [
    "# Wrap everything with a module to allow redefition of type\n",
    "module MC\n",
    "\n",
    "\"\"\"\n",
    "Composite type to represent a spin state\n",
    "\"\"\"\n",
    "mutable struct SpinState\n",
    "    num_spins::Int\n",
    "    s::Array{Int8,1}\n",
    "    energy::Int\n",
    "    tot_mag::Int\n",
    "end\n",
    "\n",
    "\"\"\"\n",
    "Energy\n",
    "\"\"\"\n",
    "function energy(s)\n",
    "    n = length(s)\n",
    "    - sum((s[i] * s[ifelse(i == n, 1, i+1)] for i in 1:n))\n",
    "end\n",
    "\n",
    "\"\"\"\n",
    "Total magnetization\n",
    "\"\"\"\n",
    "total_magnetization(s) = sum(s)\n",
    "\n",
    "\"\"\"\n",
    "Constructor\n",
    "\"\"\"\n",
    "function SpinState(s)\n",
    "    ss = SpinState(length(s), copy(s), energy(s), total_magnetization(s))\n",
    "    sanity_check(ss)\n",
    "    ss\n",
    "end\n",
    "\n",
    "\"\"\"\n",
    "Sanity check\n",
    "\"\"\"\n",
    "function sanity_check(ss)\n",
    "    @assert energy(ss.s) == ss.energy\n",
    "    @assert total_magnetization(ss.s) == ss.tot_mag\n",
    "end\n",
    "\n",
    "\"\"\"\n",
    "Take an object of SpinState as an input and update it in place.\n",
    "\"\"\"\n",
    "function update!(ss, β, niters, rng)\n",
    "    min_h = -2\n",
    "    max_h = 2\n",
    "    s = ss.s\n",
    "    n = ss.num_spins\n",
    "    prob = [1/(1+exp(-2*β*h)) for h in min_h:max_h]\n",
    "    for iter in 1:niters, i in 1:n\n",
    "        sl = s[ifelse(i == 1, n, i-1)]\n",
    "        sr = s[ifelse(i == n, 1, i+1)]\n",
    "        # h = -2, 0, 2\n",
    "        h = sl + sr\n",
    "        si_old = s[i]\n",
    "        s[i] = ifelse(rand(rng) < prob[h-min_h+1], +1, -1)\n",
    "        \n",
    "        # Update observables with O(1) operations\n",
    "        ss.energy += (si_old - s[i]) * h\n",
    "        ss.tot_mag += (s[i] - si_old)\n",
    "    end\n",
    "end\n",
    "\n",
    "end\n",
    ";"
   ]
  },
  {
   "cell_type": "markdown",
   "metadata": {},
   "source": [
    "では、実際にスピン更新を行って、その後consistencyが保たれているか見てみましょう。"
   ]
  },
  {
   "cell_type": "code",
   "execution_count": 5,
   "metadata": {},
   "outputs": [],
   "source": [
    "ss = MC.SpinState(s0)\n",
    "MC.update!(ss, β, niters, rng)\n",
    "MC.sanity_check(ss)"
   ]
  },
  {
   "cell_type": "code",
   "execution_count": 5,
   "metadata": {},
   "outputs": [
    {
     "data": {
      "text/plain": [
       "BenchmarkTools.Trial: \n",
       "  memory estimate:  128 bytes\n",
       "  allocs estimate:  1\n",
       "  --------------\n",
       "  minimum time:     473.917 μs (0.00% GC)\n",
       "  median time:      499.894 μs (0.00% GC)\n",
       "  mean time:        572.979 μs (0.00% GC)\n",
       "  maximum time:     1.495 ms (0.00% GC)\n",
       "  --------------\n",
       "  samples:          8722\n",
       "  evals/sample:     1"
      ]
     },
     "execution_count": 5,
     "metadata": {},
     "output_type": "execute_result"
    }
   ],
   "source": [
    "@benchmark MC.update!(ss, β, niters, rng)"
   ]
  },
  {
   "cell_type": "markdown",
   "metadata": {},
   "source": [
    "では、実際に物理量を計測してみます。\n",
    "以下、$\\langle O \\rangle_\\mathrm{MC}$は物理量$O$のモンテカルロ平均を表します。\n",
    "\n",
    "熱容量:\n",
    "\n",
    "$$\n",
    "C = \\frac{\\langle E^2\\rangle_\\mathrm{MC} - \\langle E\\rangle_\\mathrm{MC}^2}{T^2}\n",
    "$$\n",
    "\n",
    "磁化の2乗 (磁化自体の期待値は対称性から0になる):\n",
    "\n",
    "$$\n",
    "M_2 = \\langle M^2\\rangle_\\mathrm{MC}\n",
    "$$\n",
    "\n",
    "帯磁率:\n",
    "\n",
    "$$\n",
    "\\chi = \\frac{\\langle M^2\\rangle_\\mathrm{MC}}{T}\n",
    "$$\n",
    "\n",
    "前準備として、複数の物理量の計測結果を簡単に格納する\"Accumulator\"を作っておきましょう。"
   ]
  },
  {
   "cell_type": "code",
   "execution_count": 7,
   "metadata": {},
   "outputs": [],
   "source": [
    "module Meas\n",
    "\n",
    "struct Accumulator\n",
    "    count::Dict{String,UInt64}\n",
    "    data::Dict{String,Any}\n",
    "end\n",
    "\n",
    "\"\"\"\n",
    "Constructor\n",
    "\"\"\"\n",
    "function Accumulator()\n",
    "    Accumulator(Dict{String,UInt64}(), Dict{String,Any}())\n",
    "end\n",
    "\n",
    "\"\"\"\n",
    "Add a sample\n",
    "\"\"\"\n",
    "function add!(acc::Accumulator, name::String, data)\n",
    "    if !haskey(acc.count, name)\n",
    "        acc.count[name] = 1\n",
    "        acc.data[name] = copy(data)\n",
    "    else\n",
    "        acc.count[name] += 1\n",
    "        acc.data[name] += data\n",
    "    end\n",
    "end\n",
    "\n",
    "\"\"\"\n",
    "Compuate mean\n",
    "\"\"\"\n",
    "function mean(acc::Accumulator, name::String)\n",
    "    return acc.data[name]/acc.count[name]\n",
    "end\n",
    "\n",
    "end\n",
    "\n",
    "\n",
    "# Perform some tests\n",
    "let\n",
    "    acc = Meas.Accumulator()\n",
    "    Meas.add!(acc, \"obs1\", ones(4))\n",
    "    Meas.add!(acc, \"obs1\", 2 .* ones(4))\n",
    "    Meas.add!(acc, \"obs2\", ones(4))\n",
    "    Meas.add!(acc, \"obs2\", ones(4))\n",
    "    @assert Meas.mean(acc, \"obs1\") ≈ 1.5 .* ones(4)\n",
    "    @assert Meas.mean(acc, \"obs2\") ≈ ones(4)\n",
    "end"
   ]
  },
  {
   "cell_type": "markdown",
   "metadata": {},
   "source": [
    "では、実際に物理量を計算してみましょう。\n",
    "niters_measモンテカルロステップ毎に、計測を実行します（1モンテカルロステップ＝全てのスピンを一回ずつ更新を試みる)。\n",
    "また、平衡状態に達してから計測したいので、最初のntherm回の計測はスキップします。"
   ]
  },
  {
   "cell_type": "code",
   "execution_count": 9,
   "metadata": {},
   "outputs": [
    {
     "name": "stdout",
     "output_type": "stream",
     "text": [
      "-762.1333333333333\n",
      "581227.3777777777\n"
     ]
    }
   ],
   "source": [
    "function solve!(ss, acc, β, nsweeps, ntherm, niters_meas, rng)\n",
    "    for isweep in 1:nsweeps\n",
    "        MC.update!(ss, β, niters_meas, rng)\n",
    "        if isweep <= ntherm\n",
    "            continue\n",
    "        end\n",
    "        Meas.add!(acc, \"E\", Float64(ss.energy))\n",
    "        Meas.add!(acc, \"E2\", Float64(ss.energy)^2)\n",
    "        MC.sanity_check(ss)\n",
    "    end\n",
    "end\n",
    "\n",
    "\n",
    "nsweeps = 100\n",
    "niters_meas = 10\n",
    "ntherm = ceil(nsweeps/10)\n",
    "β = 1.0\n",
    "\n",
    "ss = MC.SpinState(s0)\n",
    "acc = Meas.Accumulator()\n",
    "solve!(ss, acc, β, nsweeps, ntherm, niters_meas, rng)\n",
    "\n",
    "println(Meas.mean(acc, \"E\"))\n",
    "println(Meas.mean(acc, \"E2\"))"
   ]
  },
  {
   "cell_type": "code",
   "execution_count": 11,
   "metadata": {},
   "outputs": [],
   "source": [
    "using PyPlot"
   ]
  },
  {
   "cell_type": "code",
   "execution_count": 13,
   "metadata": {},
   "outputs": [
    {
     "data": {
      "image/png": "[encoded data removed]",
      "text/plain": [
       "Figure(PyObject <Figure size 640x480 with 1 Axes>)"
      ]
     },
     "metadata": {},
     "output_type": "display_data"
    },
    {
     "data": {
      "text/plain": [
       "PyObject <matplotlib.legend.Legend object at 0x1551f2bb0>"
      ]
     },
     "execution_count": 13,
     "metadata": {},
     "output_type": "execute_result"
    }
   ],
   "source": [
    "exact_C(T) = 1/(T * cosh(1/T))^2\n",
    "\n",
    "nsweeps = 10^4\n",
    "num_spins = 1000\n",
    "\n",
    "rng = MersenneTwister(4649)\n",
    "s0 = rand(rng, Int8[-1, 1], num_spins)\n",
    "\n",
    "Ts = range(0.3, 2, length=100)\n",
    "Ts_mc = range(0.3, 2, length=10)\n",
    "\n",
    "C_mc = Float64[]\n",
    "for T in Ts_mc\n",
    "    ss = MC.SpinState(s0)\n",
    "    acc = Meas.Accumulator()\n",
    "    solve!(ss, acc, 1/T, nsweeps, ntherm, niters_meas, rng)\n",
    "    E = Meas.mean(acc, \"E\")\n",
    "    E2 = Meas.mean(acc, \"E2\")\n",
    "    push!(C_mc, (E2-E^2)/T^2)\n",
    "end\n",
    "\n",
    "plt.plot(Ts, exact_C.(Ts), label=\"Exact\")\n",
    "plt.plot(Ts_mc, C_mc ./ num_spins, label=\"MC\", marker=\"o\")\n",
    "plt.xlabel(raw\"$T$\")\n",
    "plt.ylabel(raw\"$C/N$\")\n",
    "plt.ylim([0, nothing])\n",
    "plt.legend()"
   ]
  },
  {
   "cell_type": "markdown",
   "metadata": {},
   "source": [
    "TODO: 厳密解との比較"
   ]
  }
 ],
 "metadata": {
  "kernelspec": {
   "display_name": "Julia 1.5.2",
   "language": "julia",
   "name": "julia-1.5"
  },
  "language_info": {
   "file_extension": ".jl",
   "mimetype": "application/julia",
   "name": "julia",
   "version": "1.5.2"
  }
 },
 "nbformat": 4,
 "nbformat_minor": 4
}
