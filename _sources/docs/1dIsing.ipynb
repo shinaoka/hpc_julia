{
 "cells": [
  {
   "cell_type": "markdown",
   "metadata": {},
   "source": [
    "# 1D Ising model"
   ]
  },
  {
   "cell_type": "markdown",
   "metadata": {},
   "source": [
    "We consider the Hamiltonian\n",
    "\n",
    "$$\n",
    "\\mathcal{H} = -\\sum_i S_i S_{i+1}.\n",
    "$$\n",
    "\n",
    "We are going to update $S_i$.\n",
    "We consider two states where $S_i=\\pm 1$ and the other spins are the same as the current state.\n",
    "The energy difference of these two states can be computed as $\\Delta E = E_\\uparrow - E_\\downarrow = - 2h$,\n",
    "where $h = S_{i-1} + S_{i+1}$.\n",
    "We adopt $S_i=1$ with a probability of $1/(1+\\exp(\\beta \\Delta E ))$.\n"
   ]
  },
  {
   "cell_type": "code",
   "execution_count": 1,
   "metadata": {},
   "outputs": [
    {
     "name": "stdout",
     "output_type": "stream",
     "text": [
      "VERSION = v\"1.5.2\"\n"
     ]
    }
   ],
   "source": [
    "@show VERSION\n",
    "using BenchmarkTools, Random"
   ]
  },
  {
   "cell_type": "markdown",
   "metadata": {},
   "source": [
    "## First simple implementation"
   ]
  },
  {
   "cell_type": "code",
   "execution_count": 2,
   "metadata": {},
   "outputs": [
    {
     "name": "stdout",
     "output_type": "stream",
     "text": [
      "  0.000436 seconds (1 allocation: 128 bytes)\n"
     ]
    },
    {
     "data": {
      "text/plain": [
       "BenchmarkTools.Trial: \n",
       "  memory estimate:  128 bytes\n",
       "  allocs estimate:  1\n",
       "  --------------\n",
       "  minimum time:     414.421 μs (0.00% GC)\n",
       "  median time:      433.919 μs (0.00% GC)\n",
       "  mean time:        468.099 μs (0.00% GC)\n",
       "  maximum time:     1.398 ms (0.00% GC)\n",
       "  --------------\n",
       "  samples:          10000\n",
       "  evals/sample:     1"
      ]
     },
     "execution_count": 2,
     "metadata": {},
     "output_type": "execute_result"
    }
   ],
   "source": [
    "function ising1d!(s, β, niters, rng)\n",
    "    n = length(s)\n",
    "    min_h = -2\n",
    "    max_h = 2\n",
    "    prob = [1/(1+exp(-2*β*h)) for h in min_h:max_h]\n",
    "    for iter in 1:niters, i in 1:n\n",
    "        sl = s[ifelse(i == 1, n, i-1)]\n",
    "        sr = s[ifelse(i == n, 1, i+1)]\n",
    "        # h = -2, 0, 2\n",
    "        h = sl + sr\n",
    "        si_old = s[i]\n",
    "        s[i] = ifelse(rand(rng) < prob[h-min_h+1], +1, -1)\n",
    "    end\n",
    "end\n",
    "\n",
    "n = 100\n",
    "rng = MersenneTwister(4649)\n",
    "s0 = rand(rng, Int8[-1, 1], n)\n",
    "β = 100.0\n",
    "niters = 10^3\n",
    "\n",
    "s = copy(s0)\n",
    "\n",
    "# Run once to compile the function\n",
    "ising1d!(s, β, niters, rng)\n",
    "\n",
    "@time ising1d!(s, β, niters, rng)\n",
    "@benchmark ising1d!(s, β, niters, rng) setup=(s = copy(s0))"
   ]
  },
  {
   "cell_type": "markdown",
   "metadata": {},
   "source": [
    "## More complex implementation with measurement"
   ]
  },
  {
   "cell_type": "code",
   "execution_count": 3,
   "metadata": {},
   "outputs": [],
   "source": [
    "# Wrap everything with a module to allow redefition of type\n",
    "module MC\n",
    "\n",
    "\"\"\"\n",
    "Composite type to represent a spin state\n",
    "\"\"\"\n",
    "mutable struct SpinState\n",
    "    num_spins::Int\n",
    "    s::Array{Int8,1}\n",
    "    energy::Int\n",
    "    tot_mag::Int\n",
    "end\n",
    "\n",
    "\"\"\"\n",
    "Energy\n",
    "\"\"\"\n",
    "function energy(s)\n",
    "    n = length(s)\n",
    "    - sum((s[i] * s[ifelse(i == n, 1, i+1)] for i in 1:n))\n",
    "end\n",
    "\n",
    "\"\"\"\n",
    "Total magnetization\n",
    "\"\"\"\n",
    "total_magnetization(s) = sum(s)\n",
    "\n",
    "\"\"\"\n",
    "Constructor\n",
    "\"\"\"\n",
    "function SpinState(s)\n",
    "    ss = SpinState(length(s), copy(s), energy(s), total_magnetization(s))\n",
    "    sanity_check(ss)\n",
    "    ss\n",
    "end\n",
    "\n",
    "\"\"\"\n",
    "Sanity check\n",
    "\"\"\"\n",
    "function sanity_check(ss)\n",
    "    @assert energy(ss.s) == ss.energy\n",
    "    @assert total_magnetization(ss.s) == ss.tot_mag\n",
    "end\n",
    "\n",
    "\"\"\"\n",
    "Take an object of SpinState as an input and update it in place.\n",
    "\"\"\"\n",
    "function update!(ss, β, niters, rng)\n",
    "    min_h = -2\n",
    "    max_h = 2\n",
    "    s = ss.s\n",
    "    n = ss.num_spins\n",
    "    prob = [1/(1+exp(-2*β*h)) for h in min_h:max_h]\n",
    "    for iter in 1:niters, i in 1:n\n",
    "        sl = s[ifelse(i == 1, n, i-1)]\n",
    "        sr = s[ifelse(i == n, 1, i+1)]\n",
    "        # h = -2, 0, 2\n",
    "        h = sl + sr\n",
    "        si_old = s[i]\n",
    "        s[i] = ifelse(rand(rng) < prob[h-min_h+1], +1, -1)\n",
    "        \n",
    "        # Update observables with O(1) operations\n",
    "        ss.energy += (si_old - s[i]) * h\n",
    "        ss.tot_mag += (s[i] - si_old)\n",
    "    end\n",
    "end\n",
    "\n",
    "end\n",
    ";"
   ]
  },
  {
   "cell_type": "markdown",
   "metadata": {},
   "source": [
    "OK, create an updater object and run it, and check if a spin state is updated correctly."
   ]
  },
  {
   "cell_type": "code",
   "execution_count": 4,
   "metadata": {},
   "outputs": [],
   "source": [
    "ss = MC.SpinState(s0)\n",
    "MC.update!(ss, β, niters, rng)\n",
    "MC.sanity_check(ss)"
   ]
  },
  {
   "cell_type": "code",
   "execution_count": 5,
   "metadata": {},
   "outputs": [
    {
     "data": {
      "text/plain": [
       "BenchmarkTools.Trial: \n",
       "  memory estimate:  128 bytes\n",
       "  allocs estimate:  1\n",
       "  --------------\n",
       "  minimum time:     442.097 μs (0.00% GC)\n",
       "  median time:      496.197 μs (0.00% GC)\n",
       "  mean time:        510.269 μs (0.00% GC)\n",
       "  maximum time:     1.161 ms (0.00% GC)\n",
       "  --------------\n",
       "  samples:          9795\n",
       "  evals/sample:     1"
      ]
     },
     "execution_count": 5,
     "metadata": {},
     "output_type": "execute_result"
    }
   ],
   "source": [
    "@benchmark MC.update!(ss, β, niters, rng)"
   ]
  },
  {
   "cell_type": "markdown",
   "metadata": {},
   "source": [
    "## Exercise\n",
    "Implement measurement of the magnetization and specific heat \n",
    "and compare the results with the exact ones!\n",
    "(To do) Include analytic expressions"
   ]
  }
 ],
 "metadata": {
  "kernelspec": {
   "display_name": "Julia 1.5.2",
   "language": "julia",
   "name": "julia-1.5"
  },
  "language_info": {
   "file_extension": ".jl",
   "mimetype": "application/julia",
   "name": "julia",
   "version": "1.5.2"
  }
 },
 "nbformat": 4,
 "nbformat_minor": 4
}
