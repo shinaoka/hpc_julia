{
 "cells": [
  {
   "cell_type": "markdown",
   "metadata": {},
   "source": [
    "# Jupyter test"
   ]
  },
  {
   "cell_type": "code",
   "execution_count": 1,
   "metadata": {},
   "outputs": [],
   "source": [
    "using Random\n",
    "using BenchmarkTools"
   ]
  },
  {
   "cell_type": "code",
   "execution_count": 19,
   "metadata": {},
   "outputs": [
    {
     "data": {
      "text/plain": [
       "0.9999999999999997"
      ]
     },
     "execution_count": 19,
     "metadata": {},
     "output_type": "execute_result"
    }
   ],
   "source": [
    "N = 100\n",
    "\n",
    "θ0 = 0.111\n",
    "spins = [(cos(x), sin(x), 0.0) for x in rand(Float64[θ0, θ0+2π/3, θ0-2π/3], N)]\n",
    "\n",
    "function compute_m_120degrees2(spins)\n",
    "    cos_sum = sum([cos(3*atan(x[2], x[1])) for x in spins])\n",
    "    sin_sum = sum([sin(3*atan(x[2], x[1])) for x in spins])\n",
    "    (cos_sum^2 + sin_sum^2)/length(spins)^2\n",
    "end\n",
    "\n",
    "compute_m_120degrees(spins)"
   ]
  },
  {
   "cell_type": "code",
   "execution_count": 8,
   "metadata": {},
   "outputs": [
    {
     "data": {
      "text/plain": [
       "100-element Array{Tuple{Float64,Float64,Float64},1}:\n",
       " (1.0, 0.0, 0.0)\n",
       " (-0.4999999999999998, 0.8660254037844387, 0.0)\n",
       " (-0.4999999999999998, -0.8660254037844387, 0.0)\n",
       " (1.0, 0.0, 0.0)\n",
       " (1.0, 0.0, 0.0)\n",
       " (1.0, 0.0, 0.0)\n",
       " (1.0, 0.0, 0.0)\n",
       " (1.0, 0.0, 0.0)\n",
       " (1.0, 0.0, 0.0)\n",
       " (1.0, 0.0, 0.0)\n",
       " (-0.4999999999999998, -0.8660254037844387, 0.0)\n",
       " (-0.4999999999999998, -0.8660254037844387, 0.0)\n",
       " (-0.4999999999999998, 0.8660254037844387, 0.0)\n",
       " ⋮\n",
       " (-0.4999999999999998, 0.8660254037844387, 0.0)\n",
       " (-0.4999999999999998, -0.8660254037844387, 0.0)\n",
       " (-0.4999999999999998, -0.8660254037844387, 0.0)\n",
       " (-0.4999999999999998, 0.8660254037844387, 0.0)\n",
       " (1.0, 0.0, 0.0)\n",
       " (-0.4999999999999998, 0.8660254037844387, 0.0)\n",
       " (1.0, 0.0, 0.0)\n",
       " (-0.4999999999999998, -0.8660254037844387, 0.0)\n",
       " (-0.4999999999999998, -0.8660254037844387, 0.0)\n",
       " (-0.4999999999999998, 0.8660254037844387, 0.0)\n",
       " (-0.4999999999999998, -0.8660254037844387, 0.0)\n",
       " (-0.4999999999999998, 0.8660254037844387, 0.0)"
      ]
     },
     "execution_count": 8,
     "metadata": {},
     "output_type": "execute_result"
    }
   ],
   "source": [
    "spins = [(cos(x), sin(x), 0.0) for x in rand(Float64[0.0, 2π/3, -2π/3], N)]"
   ]
  },
  {
   "cell_type": "code",
   "execution_count": 20,
   "metadata": {},
   "outputs": [
    {
     "data": {
      "text/plain": [
       "BenchmarkTools.Trial: \n",
       "  memory estimate:  1.77 KiB\n",
       "  allocs estimate:  3\n",
       "  --------------\n",
       "  minimum time:     4.471 μs (0.00% GC)\n",
       "  median time:      4.931 μs (0.00% GC)\n",
       "  mean time:        5.482 μs (0.32% GC)\n",
       "  maximum time:     95.249 μs (92.39% GC)\n",
       "  --------------\n",
       "  samples:          10000\n",
       "  evals/sample:     7"
      ]
     },
     "execution_count": 20,
     "metadata": {},
     "output_type": "execute_result"
    }
   ],
   "source": [
    "@benchmark compute_m_120degrees2(spins)"
   ]
  },
  {
   "cell_type": "code",
   "execution_count": 25,
   "metadata": {},
   "outputs": [
    {
     "name": "stderr",
     "output_type": "stream",
     "text": [
      "WARNING: replacing module My.\n"
     ]
    },
    {
     "data": {
      "text/plain": [
       "Main.My"
      ]
     },
     "execution_count": 25,
     "metadata": {},
     "output_type": "execute_result"
    }
   ],
   "source": [
    "module My\n",
    "\n",
    "function add_data!(x, y)\n",
    "    x += y\n",
    "end\n",
    "\n",
    "function add_data!(x, y::Array{T,I}) where {T, I}\n",
    "    x .+= y\n",
    "end\n",
    "\n",
    "function add_data!(x::Vector{T}, y::Base.Generator{I,F}) where {T, I, F}\n",
    "    for (i, y_) in zip(eachindex(x), y)\n",
    "        x[i] += y_\n",
    "    end\n",
    "end\n",
    "\n",
    "end"
   ]
  },
  {
   "cell_type": "code",
   "execution_count": 20,
   "metadata": {},
   "outputs": [
    {
     "data": {
      "text/plain": [
       "BenchmarkTools.Trial: \n",
       "  memory estimate:  0 bytes\n",
       "  allocs estimate:  0\n",
       "  --------------\n",
       "  minimum time:     22.499 ns (0.00% GC)\n",
       "  median time:      23.232 ns (0.00% GC)\n",
       "  mean time:        25.636 ns (0.00% GC)\n",
       "  maximum time:     92.391 ns (0.00% GC)\n",
       "  --------------\n",
       "  samples:          10000\n",
       "  evals/sample:     995"
      ]
     },
     "execution_count": 20,
     "metadata": {},
     "output_type": "execute_result"
    }
   ],
   "source": [
    "x = zeros(10)\n",
    "y = zeros(10)\n",
    "@benchmark My.add_data!(x, y)"
   ]
  },
  {
   "cell_type": "code",
   "execution_count": 28,
   "metadata": {},
   "outputs": [
    {
     "data": {
      "text/plain": [
       "10-element Array{Float64,1}:\n",
       " 1.0\n",
       " 1.0\n",
       " 1.0\n",
       " 1.0\n",
       " 1.0\n",
       " 1.0\n",
       " 1.0\n",
       " 1.0\n",
       " 1.0\n",
       " 1.0"
      ]
     },
     "execution_count": 28,
     "metadata": {},
     "output_type": "execute_result"
    }
   ],
   "source": [
    "y = (1 for i in 1:10)\n",
    "x = zeros(10)\n",
    "My.add_data!(x, y)\n",
    "x"
   ]
  },
  {
   "cell_type": "code",
   "execution_count": 29,
   "metadata": {},
   "outputs": [
    {
     "name": "stdout",
     "output_type": "stream",
     "text": [
      "search: \u001b[0m\u001b[1m.\u001b[22m\u001b[0m\u001b[1m.\u001b[22m\u001b[0m\u001b[1m.\u001b[22m\n",
      "\n"
     ]
    },
    {
     "data": {
      "text/latex": [
       "\\begin{verbatim}\n",
       "...\n",
       "\\end{verbatim}\n",
       "The \"splat\" operator, \\texttt{...}, represents a sequence of arguments. \\texttt{...} can be used in function definitions, to indicate that the function accepts an arbitrary number of arguments. \\texttt{...} can also be used to apply a function to a sequence of arguments.\n",
       "\n",
       "\\section{Examples}\n",
       "\\begin{verbatim}\n",
       "julia> add(xs...) = reduce(+, xs)\n",
       "add (generic function with 1 method)\n",
       "\n",
       "julia> add(1, 2, 3, 4, 5)\n",
       "15\n",
       "\n",
       "julia> add([1, 2, 3]...)\n",
       "6\n",
       "\n",
       "julia> add(7, 1:100..., 1000:1100...)\n",
       "111107\n",
       "\\end{verbatim}\n"
      ],
      "text/markdown": [
       "```\n",
       "...\n",
       "```\n",
       "\n",
       "The \"splat\" operator, `...`, represents a sequence of arguments. `...` can be used in function definitions, to indicate that the function accepts an arbitrary number of arguments. `...` can also be used to apply a function to a sequence of arguments.\n",
       "\n",
       "# Examples\n",
       "\n",
       "```jldoctest\n",
       "julia> add(xs...) = reduce(+, xs)\n",
       "add (generic function with 1 method)\n",
       "\n",
       "julia> add(1, 2, 3, 4, 5)\n",
       "15\n",
       "\n",
       "julia> add([1, 2, 3]...)\n",
       "6\n",
       "\n",
       "julia> add(7, 1:100..., 1000:1100...)\n",
       "111107\n",
       "```\n"
      ],
      "text/plain": [
       "\u001b[36m  ...\u001b[39m\n",
       "\n",
       "  The \"splat\" operator, \u001b[36m...\u001b[39m, represents a sequence of arguments. \u001b[36m...\u001b[39m can be\n",
       "  used in function definitions, to indicate that the function accepts an\n",
       "  arbitrary number of arguments. \u001b[36m...\u001b[39m can also be used to apply a function to a\n",
       "  sequence of arguments.\n",
       "\n",
       "\u001b[1m  Examples\u001b[22m\n",
       "\u001b[1m  ≡≡≡≡≡≡≡≡≡≡\u001b[22m\n",
       "\n",
       "\u001b[36m  julia> add(xs...) = reduce(+, xs)\u001b[39m\n",
       "\u001b[36m  add (generic function with 1 method)\u001b[39m\n",
       "\u001b[36m  \u001b[39m\n",
       "\u001b[36m  julia> add(1, 2, 3, 4, 5)\u001b[39m\n",
       "\u001b[36m  15\u001b[39m\n",
       "\u001b[36m  \u001b[39m\n",
       "\u001b[36m  julia> add([1, 2, 3]...)\u001b[39m\n",
       "\u001b[36m  6\u001b[39m\n",
       "\u001b[36m  \u001b[39m\n",
       "\u001b[36m  julia> add(7, 1:100..., 1000:1100...)\u001b[39m\n",
       "\u001b[36m  111107\u001b[39m"
      ]
     },
     "execution_count": 29,
     "metadata": {},
     "output_type": "execute_result"
    }
   ],
   "source": [
    "?..."
   ]
  },
  {
   "cell_type": "code",
   "execution_count": 51,
   "metadata": {},
   "outputs": [
    {
     "data": {
      "text/plain": [
       "10-element Array{Float64,1}:\n",
       " 2.0\n",
       " 2.0\n",
       " 2.0\n",
       " 2.0\n",
       " 2.0\n",
       " 2.0\n",
       " 2.0\n",
       " 2.0\n",
       " 2.0\n",
       " 2.0"
      ]
     },
     "execution_count": 51,
     "metadata": {},
     "output_type": "execute_result"
    }
   ],
   "source": [
    "f(x) = 2*x\n",
    "\n",
    "xvec = ones(10)\n",
    "#for i in 1:10\n",
    "#    xvec[i] = f(xvec[i])\n",
    "#end\n",
    "f.(xvec)"
   ]
  },
  {
   "cell_type": "code",
   "execution_count": 53,
   "metadata": {},
   "outputs": [
    {
     "data": {
      "text/plain": [
       "1×10 Array{Float64,2}:\n",
       " 0.1  0.1  0.1  0.1  0.1  0.1  0.1  0.1  0.1  0.1"
      ]
     },
     "execution_count": 53,
     "metadata": {},
     "output_type": "execute_result"
    }
   ],
   "source": [
    "collect(1/xvec)"
   ]
  },
  {
   "cell_type": "code",
   "execution_count": 54,
   "metadata": {},
   "outputs": [
    {
     "data": {
      "text/plain": [
       "10-element Array{Float64,1}:\n",
       " 1.0\n",
       " 1.0\n",
       " 1.0\n",
       " 1.0\n",
       " 1.0\n",
       " 1.0\n",
       " 1.0\n",
       " 1.0\n",
       " 1.0\n",
       " 1.0"
      ]
     },
     "execution_count": 54,
     "metadata": {},
     "output_type": "execute_result"
    }
   ],
   "source": [
    "xvec"
   ]
  },
  {
   "cell_type": "code",
   "execution_count": 32,
   "metadata": {},
   "outputs": [
    {
     "data": {
      "text/plain": [
       "BenchmarkTools.Trial: \n",
       "  memory estimate:  0 bytes\n",
       "  allocs estimate:  0\n",
       "  --------------\n",
       "  minimum time:     20.358 ns (0.00% GC)\n",
       "  median time:      22.218 ns (0.00% GC)\n",
       "  mean time:        25.522 ns (0.00% GC)\n",
       "  maximum time:     134.235 ns (0.00% GC)\n",
       "  --------------\n",
       "  samples:          10000\n",
       "  evals/sample:     996"
      ]
     },
     "execution_count": 32,
     "metadata": {},
     "output_type": "execute_result"
    }
   ],
   "source": [
    "function f(x, y)\n",
    "    x .+= y\n",
    "    #for i in 1:4\n",
    "    #    x[i] += y[i]\n",
    "    #end\n",
    "end\n",
    "@benchmark f(x, y)"
   ]
  },
  {
   "cell_type": "code",
   "execution_count": 20,
   "metadata": {},
   "outputs": [
    {
     "name": "stderr",
     "output_type": "stream",
     "text": [
      "WARNING: replacing module My.\n"
     ]
    },
    {
     "data": {
      "text/plain": [
       "Main.My"
      ]
     },
     "execution_count": 20,
     "metadata": {},
     "output_type": "execute_result"
    }
   ],
   "source": [
    "module My\n",
    "\n",
    "struct Point\n",
    "    x::Int\n",
    "    y::Int\n",
    "end\n",
    "\n",
    "function Point(x)\n",
    "    return Point(x, 2*x)\n",
    "end\n",
    "\n",
    "function Point()\n",
    "    return Point(0, 0)\n",
    "end\n",
    "\n",
    "end"
   ]
  },
  {
   "cell_type": "code",
   "execution_count": 21,
   "metadata": {},
   "outputs": [
    {
     "data": {
      "text/html": [
       "# 4 methods for type constructor:<ul><li> Main.My.Point() in Main.My at In[20]:12</li> <li> Main.My.Point(x::<b>Int64</b>, y::<b>Int64</b>) in Main.My at In[20]:4</li> <li> Main.My.Point(x) in Main.My at In[20]:8</li> <li> Main.My.Point(x, y) in Main.My at In[20]:4</li> </ul>"
      ],
      "text/plain": [
       "# 4 methods for type constructor:\n",
       "[1] Main.My.Point() in Main.My at In[20]:12\n",
       "[2] Main.My.Point(x::Int64, y::Int64) in Main.My at In[20]:4\n",
       "[3] Main.My.Point(x) in Main.My at In[20]:8\n",
       "[4] Main.My.Point(x, y) in Main.My at In[20]:4"
      ]
     },
     "execution_count": 21,
     "metadata": {},
     "output_type": "execute_result"
    }
   ],
   "source": [
    "methods(My.Point)"
   ]
  },
  {
   "cell_type": "code",
   "execution_count": 22,
   "metadata": {},
   "outputs": [
    {
     "data": {
      "text/plain": [
       "Main.My.Point(0, 0)"
      ]
     },
     "execution_count": 22,
     "metadata": {},
     "output_type": "execute_result"
    }
   ],
   "source": [
    "p = My.Point()"
   ]
  },
  {
   "cell_type": "code",
   "execution_count": 9,
   "metadata": {},
   "outputs": [
    {
     "data": {
      "text/html": [
       "# 1 method for generic function <b>Point</b>:<ul><li> Point(x) in Main at In[8]:1</li> </ul>"
      ],
      "text/plain": [
       "# 1 method for generic function \"Point\":\n",
       "[1] Point(x) in Main at In[8]:1"
      ]
     },
     "execution_count": 9,
     "metadata": {},
     "output_type": "execute_result"
    }
   ],
   "source": [
    "methods(Point)"
   ]
  },
  {
   "cell_type": "code",
   "execution_count": 1,
   "metadata": {},
   "outputs": [
    {
     "data": {
      "text/plain": [
       "BenchmarkTools.Trial: \n",
       "  memory estimate:  896 bytes\n",
       "  allocs estimate:  1\n",
       "  --------------\n",
       "  minimum time:     70.084 ns (0.00% GC)\n",
       "  median time:      75.993 ns (0.00% GC)\n",
       "  mean time:        89.716 ns (5.99% GC)\n",
       "  maximum time:     842.431 ns (70.46% GC)\n",
       "  --------------\n",
       "  samples:          10000\n",
       "  evals/sample:     977"
      ]
     },
     "execution_count": 1,
     "metadata": {},
     "output_type": "execute_result"
    }
   ],
   "source": [
    "using BenchmarkTools\n",
    "\n",
    "x = zeros(100)\n",
    "y = zeros(100)\n",
    "\n",
    "function test_f(x, y)\n",
    "     x += y\n",
    "end\n",
    "\n",
    "@benchmark test_f(x, y)"
   ]
  },
  {
   "cell_type": "code",
   "execution_count": 2,
   "metadata": {},
   "outputs": [
    {
     "data": {
      "text/plain": [
       "BenchmarkTools.Trial: \n",
       "  memory estimate:  0 bytes\n",
       "  allocs estimate:  0\n",
       "  --------------\n",
       "  minimum time:     26.374 ns (0.00% GC)\n",
       "  median time:      28.405 ns (0.00% GC)\n",
       "  mean time:        31.012 ns (0.00% GC)\n",
       "  maximum time:     147.199 ns (0.00% GC)\n",
       "  --------------\n",
       "  samples:          10000\n",
       "  evals/sample:     993"
      ]
     },
     "execution_count": 2,
     "metadata": {},
     "output_type": "execute_result"
    }
   ],
   "source": [
    "function test_f2(x, y)\n",
    "     x .+= y\n",
    "end\n",
    "\n",
    "@benchmark test_f2(x, y)"
   ]
  }
 ],
 "metadata": {
  "kernelspec": {
   "display_name": "Julia 1.5.2",
   "language": "julia",
   "name": "julia-1.5"
  },
  "language_info": {
   "file_extension": ".jl",
   "mimetype": "application/julia",
   "name": "julia",
   "version": "1.5.2"
  }
 },
 "nbformat": 4,
 "nbformat_minor": 4
}
