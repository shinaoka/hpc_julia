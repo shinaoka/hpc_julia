{
 "cells": [
  {
   "cell_type": "markdown",
   "metadata": {},
   "source": [
    "# 2D Ising model\n",
    "\n",
    "In this section, we move from the 1D Ising model to the 2D Ising model with the nearest-neighbor interaction.\n",
    "The Hamiltonian is given by\n",
    "\n",
    "$$\n",
    "\\mathcal{H} = -\\sum_{\\langle\\langle i, j\\rangle\\rangle} S_i S_j,\n",
    "$$\n",
    "\n",
    "where the sum runs over pairs of nearest-neighbor sites.\n",
    "The thermodynamic properties of the 2D Ising model are qualitatively different from those of the 1D model: The 2D model shows a continuous transitoin **at a finite temperature**."
   ]
  },
  {
   "cell_type": "code",
   "execution_count": 1,
   "metadata": {},
   "outputs": [
    {
     "name": "stdout",
     "output_type": "stream",
     "text": [
      "VERSION = v\"1.5.2\"\n"
     ]
    }
   ],
   "source": [
    "@show VERSION\n",
    "using BenchmarkTools, StaticArrays\n",
    "using Random: default_rng, seed!"
   ]
  },
  {
   "cell_type": "markdown",
   "metadata": {},
   "source": [
    "## Very optimized implementation for nearest-neighbor 2D model\n",
    "\n",
    "In the cell below, you can find [a very optimized code for the 2D Ising model written by Gen Kuroki](https://nbviewer.jupyter.org/gist/genkuroki/79fd71a75b46303347bed4e52aaa2ba6).\n",
    "On my laptop (Macbook Pro 16-inchi 2019), using @invounds, @simd improves the performance around 7%.\n",
    "But, they are dropped in the cell below.\n",
    "The following code was modified from the original code to use the same update algorithm as in our 1D Ising code."
   ]
  },
  {
   "cell_type": "code",
   "execution_count": 2,
   "metadata": {},
   "outputs": [
    {
     "data": {
      "text/plain": [
       "BenchmarkTools.Trial: \n",
       "  memory estimate:  160 bytes\n",
       "  allocs estimate:  1\n",
       "  --------------\n",
       "  minimum time:     50.895 ms (0.00% GC)\n",
       "  median time:      54.575 ms (0.00% GC)\n",
       "  mean time:        54.772 ms (0.00% GC)\n",
       "  maximum time:     60.609 ms (0.00% GC)\n",
       "  --------------\n",
       "  samples:          92\n",
       "  evals/sample:     1"
      ]
     },
     "execution_count": 2,
     "metadata": {},
     "output_type": "execute_result"
    }
   ],
   "source": [
    "function ising2d_ifelse!(s, β, niters, rng=default_rng())\n",
    "    m, n = size(s)\n",
    "    min_h = -4\n",
    "    max_h = 4\n",
    "    prob = [1/(1+exp(-2*β*h)) for h in min_h:max_h]\n",
    "    for iter in 1:niters\n",
    "        for j in 1:n \n",
    "            for i in 1:m\n",
    "                NN = s[ifelse(i == 1, m, i-1), j]\n",
    "                SS = s[ifelse(i == m, 1, i+1), j]\n",
    "                WW = s[i, ifelse(j == 1, n, j-1)]\n",
    "                EE = s[i, ifelse(j == n, 1, j+1)]\n",
    "                h = NN + SS + WW + EE\n",
    "                s[i,j] = ifelse(rand(rng) < prob[h-min_h+1], +1, -1)\n",
    "            end\n",
    "        end\n",
    "    end\n",
    "end\n",
    "\n",
    "const β_crit = log(1+sqrt(2))/2\n",
    "rand_ising2d(m, n=m) = rand(Int8[-1, 1], m, n)\n",
    "\n",
    "seed!(4649)\n",
    "s₀ = rand_ising2d(100);\n",
    "\n",
    "s = copy(s₀)\n",
    "rng = default_rng()\n",
    "ising2d_ifelse!(s, β_crit, 10, rng)\n",
    "\n",
    "s = copy(s₀)\n",
    "seed!(4649)\n",
    "rng = default_rng()\n",
    "@benchmark ising2d_ifelse!(s, β_crit, 10^3, rng)"
   ]
  },
  {
   "cell_type": "markdown",
   "metadata": {},
   "source": [
    "## Implementatin for general models 1\n",
    "\n",
    "We focus on the nearest-neighbor interaction in this section.\n",
    "But, you may want to introduce further neighbor interactions in the future.\n",
    "You will learn how to implement a general Monte Carlo code in this section.\n",
    "We first define a struc for storing the spatial structure of the interactions."
   ]
  },
  {
   "cell_type": "code",
   "execution_count": 3,
   "metadata": {},
   "outputs": [],
   "source": [
    "module MC\n",
    "\n",
    "struct JModel\n",
    "    connected_sites::Array{Int32,2}\n",
    "    coord_num::Int8\n",
    "end\n",
    "\n",
    "# Compute effective field\n",
    "compute_effective_field(s, ispin, jmodel) =\n",
    "    sum((s[jmodel.connected_sites[j, ispin]] for j in 1:jmodel.coord_num))\n",
    "\n",
    "function ising_update!(jmodel, s, β, niters, max_h, rng)\n",
    "    num_spins = length(s)\n",
    "    min_h = -max_h\n",
    "    prob = [1/(1+exp(-2*β*h)) for h in min_h:max_h]\n",
    "    h = 0\n",
    "    for iter in 1:niters\n",
    "        for ispin in 1:num_spins \n",
    "            h = compute_effective_field(s, ispin, jmodel)\n",
    "            s[ispin] = ifelse(rand(rng) < prob[h-min_h+1], +1, -1)\n",
    "        end\n",
    "    end\n",
    "end\n",
    "\n",
    "end\n",
    ";"
   ]
  },
  {
   "cell_type": "markdown",
   "metadata": {},
   "source": [
    "Here we define a constructor for the nearest-neighbor 2D model."
   ]
  },
  {
   "cell_type": "code",
   "execution_count": 7,
   "metadata": {},
   "outputs": [],
   "source": [
    "\"\"\"\n",
    "Constructor for a nearest-neighbor 2D\n",
    "\"\"\"\n",
    "function nn_model_2D(L)\n",
    "    sites = Array{Int32,2}(undef, 4, L^2)\n",
    "    to_site_idx(i,j) = mod1(i, L) + L*(mod1(j, L)-1)\n",
    "    disp = [[-1, 0], [1, 0], [0, -1], [0, 1]]\n",
    "    for j in 1:L, i in 1:L\n",
    "        isite = to_site_idx(i, j)\n",
    "        for d in 1:4\n",
    "           sites[d, isite] = to_site_idx(i+disp[d][1], j+disp[d][2])\n",
    "        end\n",
    "    end\n",
    "    MC.JModel(sites, Int8(4))\n",
    "end\n",
    ";"
   ]
  },
  {
   "cell_type": "code",
   "execution_count": 8,
   "metadata": {},
   "outputs": [
    {
     "data": {
      "text/plain": [
       "BenchmarkTools.Trial: \n",
       "  memory estimate:  160 bytes\n",
       "  allocs estimate:  1\n",
       "  --------------\n",
       "  minimum time:     57.438 ms (0.00% GC)\n",
       "  median time:      62.821 ms (0.00% GC)\n",
       "  mean time:        63.172 ms (0.00% GC)\n",
       "  maximum time:     71.011 ms (0.00% GC)\n",
       "  --------------\n",
       "  samples:          80\n",
       "  evals/sample:     1"
      ]
     },
     "execution_count": 8,
     "metadata": {},
     "output_type": "execute_result"
    }
   ],
   "source": [
    "L = 100\n",
    "num_spins = L^2\n",
    "\n",
    "model = nn_model_2D(L)\n",
    "s = copy(vcat(s₀...))\n",
    "seed!(4649)\n",
    "rng = default_rng()\n",
    "@benchmark MC.ising_update!(model, s, β_crit, 10^3, 4, rng)"
   ]
  },
  {
   "cell_type": "markdown",
   "metadata": {},
   "source": [
    "This general code runs slower than the original code only by around 6% although the structure of the interactions is not hardcoded."
   ]
  },
  {
   "cell_type": "markdown",
   "metadata": {},
   "source": [
    "## Exercise 1\n",
    "\n",
    "Simuate the nearest-neighbor 3D Ising model by implementing `nn_model_3D` based on `nn_model_2D`."
   ]
  },
  {
   "cell_type": "markdown",
   "metadata": {},
   "source": [
    "## Exercise 2\n",
    "\n",
    "Introduce next nearest neighbor interaction $J_2$ by extending JModel and exercisewriting `nnn_model_2D` based on `nn_model_2D`."
   ]
  },
  {
   "cell_type": "code",
   "execution_count": null,
   "metadata": {},
   "outputs": [],
   "source": []
  }
 ],
 "metadata": {
  "jupytext": {
   "encoding": "# -*- coding: utf-8 -*-",
   "formats": "ipynb,jl:percent"
  },
  "kernelspec": {
   "display_name": "Julia 1.5.2",
   "language": "julia",
   "name": "julia-1.5"
  },
  "language_info": {
   "file_extension": ".jl",
   "mimetype": "application/julia",
   "name": "julia",
   "version": "1.5.2"
  }
 },
 "nbformat": 4,
 "nbformat_minor": 4
}
