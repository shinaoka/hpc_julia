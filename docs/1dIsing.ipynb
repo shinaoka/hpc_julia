{
 "cells": [
  {
   "cell_type": "markdown",
   "metadata": {},
   "source": [
    "# 1D Ising model"
   ]
  },
  {
   "cell_type": "markdown",
   "metadata": {},
   "source": [
    "Let us consider the 1D Ising model defined by the Hamiltonian\n",
    "\n",
    "$$\n",
    "\\mathcal{H} = -\\sum_i S_i S_{i+1}\n",
    "$$\n",
    "\n",
    "with periodic boundary conditions.\n",
    "\n",
    "When we update the $i$-the spin (using the procedure described in the previous section),\n",
    "the energy difference of the two states can be computed as $\\Delta E = E_\\uparrow - E_\\downarrow = - 2h$ with $O(1)$ operations.\n",
    "Here, $h = S_{i-1} + S_{i+1}$ is the effective magnetic field acting on the $i$-th spin from the other spins (i.e., the nearest-neighbor spins).\n",
    "Then, we take the state of $S_i=1$ with a probability of $1/(1+\\exp(\\beta \\Delta E ))=1/(1+\\exp(-2h\\beta))$.\n",
    "\n",
    "The values of the exponential function are precomputed and stored in memory to avoid expensive reevaluation."
   ]
  },
  {
   "cell_type": "code",
   "execution_count": 1,
   "metadata": {},
   "outputs": [
    {
     "name": "stdout",
     "output_type": "stream",
     "text": [
      "VERSION = v\"1.5.2\"\n"
     ]
    }
   ],
   "source": [
    "@show VERSION\n",
    "using BenchmarkTools, Random"
   ]
  },
  {
   "cell_type": "markdown",
   "metadata": {},
   "source": [
    "## First simple implementation\n",
    "\n",
    "Let us look at the implementation shown below.\n",
    "The function ising1d! attempts to update each spin niters times.\n",
    "This function will be compiled when it's called for the first time.\n",
    "Thus, you must call it once before measuring its timings.\n",
    "Or, you can simply use the macro @benchmark in BenchmarkTools,\n",
    "which calles the function multiple times automatically."
   ]
  },
  {
   "cell_type": "code",
   "execution_count": 2,
   "metadata": {},
   "outputs": [
    {
     "name": "stdout",
     "output_type": "stream",
     "text": [
      "  0.000479 seconds (1 allocation: 128 bytes)\n"
     ]
    },
    {
     "data": {
      "text/plain": [
       "BenchmarkTools.Trial: \n",
       "  memory estimate:  128 bytes\n",
       "  allocs estimate:  1\n",
       "  --------------\n",
       "  minimum time:     423.569 μs (0.00% GC)\n",
       "  median time:      434.248 μs (0.00% GC)\n",
       "  mean time:        476.330 μs (0.00% GC)\n",
       "  maximum time:     1.423 ms (0.00% GC)\n",
       "  --------------\n",
       "  samples:          10000\n",
       "  evals/sample:     1"
      ]
     },
     "execution_count": 2,
     "metadata": {},
     "output_type": "execute_result"
    }
   ],
   "source": [
    "function ising1d!(s, β, niters, rng)\n",
    "    n = length(s)\n",
    "    min_h = -2\n",
    "    max_h = 2\n",
    "    prob = [1/(1+exp(-2*β*h)) for h in min_h:max_h]\n",
    "    #prob_f(h) = 1/(1+exp(-2*β*h))\n",
    "    for iter in 1:niters, i in 1:n\n",
    "        sl = s[ifelse(i == 1, n, i-1)]\n",
    "        sr = s[ifelse(i == n, 1, i+1)]\n",
    "        # h = -2, 0, 2\n",
    "        h = sl + sr\n",
    "        s[i] = ifelse(rand(rng) < prob[h-min_h+1], +1, -1)\n",
    "        #s[i] = ifelse(rand(rng) < prob_f(h), +1, -1)\n",
    "    end\n",
    "end\n",
    "\n",
    "num_spins = 100\n",
    "rng = MersenneTwister(4649)\n",
    "s0 = rand(rng, Int8[-1, 1], num_spins)\n",
    "β = 10.0\n",
    "niters = 10^3\n",
    "\n",
    "s = copy(s0)\n",
    "\n",
    "# Run once to compile the function\n",
    "ising1d!(s, β, niters, rng)\n",
    "\n",
    "@time ising1d!(s, β, niters, rng)\n",
    "@benchmark ising1d!(s, β, niters, rng) setup=(s = copy(s0))"
   ]
  },
  {
   "cell_type": "markdown",
   "metadata": {},
   "source": [
    "### Exercise 1\n",
    "\n",
    "Check how the performance is affected without precomuting the exponential function."
   ]
  },
  {
   "cell_type": "markdown",
   "metadata": {},
   "source": [
    "## Complete implementation with measurement\n",
    "\n",
    "Next, let us implement the measurement of observables such as magnetization and energy.\n",
    "The magnetization and energy can be updated simultanously with the update of the spin configuration,\n",
    "which costs only $O(1)$ operations.\n",
    "If you compute the magnetization or energy from scratch,\n",
    "it would cost $O(N)$ operations.\n",
    "\n",
    "We explicity write the $S_i$ dependence of the total energy as \n",
    "\n",
    "$$\n",
    "E(S_i) = - h S_i + E_0,\n",
    "$$\n",
    "\n",
    "where $h = S_{i-1} + S_{i+1}$ and $E_0$ is a constant that does not depend on $S_i$.\n",
    "\n",
    "\n",
    "SpinState is a struct for storing a spin state and the values of associcated observables.\n",
    "The data stored in a SpinState must be consistent throughout a Monte Carlo simulation.\n",
    "It's not allowed to redefine a struct in the top-level scope.\n",
    "Thus, the definition of the struc SpinState is wrapped in a module, to allow the redefinition of a struc.\n",
    "This is convenient for doing trial and error.\n",
    "\n",
    "We also define functions for computing the energy and magnetization,\n",
    "which are used in many places."
   ]
  },
  {
   "cell_type": "code",
   "execution_count": 3,
   "metadata": {},
   "outputs": [],
   "source": [
    "# Wrap everything with a module to allow redefition of type\n",
    "module MC\n",
    "\n",
    "\"\"\"\n",
    "Composite type to represent a spin state\n",
    "\"\"\"\n",
    "mutable struct SpinState\n",
    "    num_spins::Int\n",
    "    s::Array{Int8,1}\n",
    "    energy::Int\n",
    "    tot_mag::Int\n",
    "end\n",
    "\n",
    "\"\"\"\n",
    "Energy\n",
    "\"\"\"\n",
    "function energy(s)\n",
    "    n = length(s)\n",
    "    - sum((s[i] * s[ifelse(i == n, 1, i+1)] for i in 1:n))\n",
    "end\n",
    "\n",
    "\"\"\"\n",
    "Total magnetization\n",
    "\"\"\"\n",
    "total_magnetization(s) = sum(s)\n",
    "\n",
    "\"\"\"\n",
    "Constructor\n",
    "\"\"\"\n",
    "function SpinState(s)\n",
    "    ss = SpinState(length(s), copy(s), energy(s), total_magnetization(s))\n",
    "    sanity_check(ss)\n",
    "    ss\n",
    "end\n",
    "\n",
    "\"\"\"\n",
    "Sanity check\n",
    "\"\"\"\n",
    "function sanity_check(ss)\n",
    "    @assert energy(ss.s) == ss.energy\n",
    "    @assert total_magnetization(ss.s) == ss.tot_mag\n",
    "end\n",
    "\n",
    "\"\"\"\n",
    "Take an object of SpinState as an input and update it in place.\n",
    "\"\"\"\n",
    "function update!(ss, β, niters, rng)\n",
    "    min_h = -2\n",
    "    max_h = 2\n",
    "    s = ss.s\n",
    "    n = ss.num_spins\n",
    "    prob = [1/(1+exp(-2*β*h)) for h in min_h:max_h]\n",
    "    for iter in 1:niters, i in 1:n\n",
    "        sl = s[ifelse(i == 1, n, i-1)]\n",
    "        sr = s[ifelse(i == n, 1, i+1)]\n",
    "        # h = -2, 0, 2\n",
    "        h = sl + sr\n",
    "        si_old = s[i]\n",
    "        s[i] = ifelse(rand(rng) < prob[h-min_h+1], +1, -1)\n",
    "        \n",
    "        # Update observables with O(1) operations\n",
    "        ss.energy += (si_old - s[i]) * h\n",
    "        ss.tot_mag += (s[i] - si_old)\n",
    "    end\n",
    "end\n",
    "\n",
    "end\n",
    ";"
   ]
  },
  {
   "cell_type": "markdown",
   "metadata": {},
   "source": [
    "Let us perform a series of updates and check the consistency of the SpinState object."
   ]
  },
  {
   "cell_type": "code",
   "execution_count": 4,
   "metadata": {},
   "outputs": [],
   "source": [
    "ss = MC.SpinState(s0)\n",
    "MC.update!(ss, β, niters, rng)\n",
    "MC.sanity_check(ss)"
   ]
  },
  {
   "cell_type": "code",
   "execution_count": 5,
   "metadata": {},
   "outputs": [
    {
     "data": {
      "text/plain": [
       "BenchmarkTools.Trial: \n",
       "  memory estimate:  128 bytes\n",
       "  allocs estimate:  1\n",
       "  --------------\n",
       "  minimum time:     444.121 μs (0.00% GC)\n",
       "  median time:      465.535 μs (0.00% GC)\n",
       "  mean time:        517.610 μs (0.00% GC)\n",
       "  maximum time:     1.518 ms (0.00% GC)\n",
       "  --------------\n",
       "  samples:          9655\n",
       "  evals/sample:     1"
      ]
     },
     "execution_count": 5,
     "metadata": {},
     "output_type": "execute_result"
    }
   ],
   "source": [
    "@benchmark MC.update!(ss, β, niters, rng)"
   ]
  },
  {
   "cell_type": "markdown",
   "metadata": {},
   "source": [
    "We now measure these observables during a Monte Carlo simulation.\n",
    "Hereafter, $\\langle O \\rangle_\\mathrm{MC}$ denotes a Monte Carlo average of an observable $O$.\n",
    "\n",
    "Heat capacity/specific heat:\n",
    "\n",
    "$$\n",
    "C = \\frac{\\langle E^2\\rangle_\\mathrm{MC} - \\langle E\\rangle_\\mathrm{MC}^2}{T^2}\n",
    "$$\n",
    "\n",
    "Squared magnetization ($\\langle M\\rangle_\\mathrm{MC} = 0$ due to symmetries):\n",
    "\n",
    "$$\n",
    "M_2 = \\langle M^2\\rangle_\\mathrm{MC}\n",
    "$$\n",
    "\n",
    "Magnetic susceptibility:\n",
    "\n",
    "$$\n",
    "\\chi = \\frac{\\langle M^2\\rangle_\\mathrm{MC}}{T}\n",
    "$$\n",
    "\n",
    "As a prelude, we will create an \"Accumulator\" to easily store the results of multiple measurements of physical quantities."
   ]
  },
  {
   "cell_type": "code",
   "execution_count": 6,
   "metadata": {},
   "outputs": [],
   "source": [
    "module Meas\n",
    "\n",
    "struct Accumulator\n",
    "    count::Dict{String,UInt64}\n",
    "    data::Dict{String,Any}\n",
    "end\n",
    "\n",
    "\"\"\"\n",
    "Constructor\n",
    "\"\"\"\n",
    "function Accumulator()\n",
    "    Accumulator(Dict{String,UInt64}(), Dict{String,Any}())\n",
    "end\n",
    "\n",
    "\"\"\"\n",
    "Add a sample\n",
    "\"\"\"\n",
    "function add!(acc::Accumulator, name::String, data)\n",
    "    if haskey(acc.count, name)\n",
    "        acc.count[name] += 1\n",
    "        acc.data[name] += data\n",
    "    else\n",
    "        acc.count[name] = 1\n",
    "        acc.data[name] = copy(data)\n",
    "    end\n",
    "end\n",
    "\n",
    "\"\"\"\n",
    "Compuate mean\n",
    "\"\"\"\n",
    "function mean(acc::Accumulator, name::String)\n",
    "    return acc.data[name]/acc.count[name]\n",
    "end\n",
    "\n",
    "end\n",
    "\n",
    "\n",
    "# Perform some tests\n",
    "let\n",
    "    acc = Meas.Accumulator()\n",
    "    Meas.add!(acc, \"obs1\", ones(4))\n",
    "    Meas.add!(acc, \"obs1\", fill(2.0, 4))\n",
    "    Meas.add!(acc, \"obs2\", ones(4))\n",
    "    Meas.add!(acc, \"obs2\", ones(4))\n",
    "    @assert Meas.mean(acc, \"obs1\") ≈ fill(1.5, 4)\n",
    "    @assert Meas.mean(acc, \"obs2\") ≈ ones(4)\n",
    "end"
   ]
  },
  {
   "cell_type": "markdown",
   "metadata": {},
   "source": [
    "We measure every niters_meas Monte Carlo steps.\n",
    "Every spin is attemped to be updated once in a signle Monte Carlo step.\n",
    "We skip the first ntherm measurements."
   ]
  },
  {
   "cell_type": "code",
   "execution_count": 7,
   "metadata": {},
   "outputs": [
    {
     "name": "stdout",
     "output_type": "stream",
     "text": [
      "-80.4\n",
      "6478.4\n"
     ]
    }
   ],
   "source": [
    "function solve!(ss, acc, β, nsweeps, ntherm, interval_meas, rng)\n",
    "    if mod(nsweeps, interval_meas) != 0\n",
    "        error(\"nsweeps cannot be divided by interval_meas!\")\n",
    "    end\n",
    "    \n",
    "    # Thermalization steps\n",
    "    MC.update!(ss, β, ntherm, rng)\n",
    "    \n",
    "    # Measurement steps\n",
    "    for imeas in 1:(nsweeps÷interval_meas)\n",
    "        MC.update!(ss, β, interval_meas, rng)\n",
    "        Meas.add!(acc, \"E\", Float64(ss.energy))\n",
    "        Meas.add!(acc, \"E2\", Float64(ss.energy)^2)\n",
    "    end\n",
    "    MC.sanity_check(ss)\n",
    "end\n",
    "\n",
    "nsweeps = 100\n",
    "interval_meas = 10\n",
    "ntherm = nsweeps÷10\n",
    "β = 1.0\n",
    "\n",
    "ss = MC.SpinState(s0)\n",
    "acc = Meas.Accumulator()\n",
    "solve!(ss, acc, β, nsweeps, ntherm, interval_meas, rng)\n",
    "\n",
    "println(Meas.mean(acc, \"E\"))\n",
    "println(Meas.mean(acc, \"E2\"))"
   ]
  },
  {
   "cell_type": "markdown",
   "metadata": {},
   "source": [
    "We measure the specific heat with varying the temperature."
   ]
  },
  {
   "cell_type": "code",
   "execution_count": 8,
   "metadata": {},
   "outputs": [],
   "source": [
    "nsweeps = 10^6\n",
    "num_spins = 100\n",
    "\n",
    "rng = MersenneTwister(4649)\n",
    "s0 = rand(rng, Int8[-1, 1], num_spins)\n",
    "\n",
    "Ts_mc = range(0.4, 2, length=10)\n",
    "\n",
    "C_mc = Float64[]\n",
    "for T in Ts_mc\n",
    "    ss = MC.SpinState(s0)\n",
    "    acc = Meas.Accumulator()\n",
    "    solve!(ss, acc, 1/T, nsweeps, ntherm, interval_meas, rng)\n",
    "    E = Meas.mean(acc, \"E\")\n",
    "    E2 = Meas.mean(acc, \"E2\")\n",
    "    push!(C_mc, (E2-E^2)/T^2)\n",
    "end"
   ]
  },
  {
   "cell_type": "markdown",
   "metadata": {},
   "source": [
    "Let us compare Monte Carlo results with the exact solution $C/N = \\frac{1}{T^2 \\cosh^2(1/T)}$."
   ]
  },
  {
   "cell_type": "code",
   "execution_count": 9,
   "metadata": {},
   "outputs": [
    {
     "data": {
      "image/png": "[encoded data removed]",
      "text/plain": [
       "Figure(PyObject <Figure size 640x480 with 1 Axes>)"
      ]
     },
     "metadata": {},
     "output_type": "display_data"
    }
   ],
   "source": [
    "using PyPlot\n",
    "Ts = range(0.1, 2, length=100)\n",
    "exact_C(T) = 1/(T * cosh(1/T))^2\n",
    "plt.plot(Ts, exact_C.(Ts), label=\"Exact\")\n",
    "plt.plot(Ts_mc, C_mc ./ num_spins, label=\"MC\", marker=\"o\")\n",
    "plt.xlabel(raw\"$T$\")\n",
    "plt.ylabel(raw\"$C/N$\")\n",
    "plt.xlim([0, nothing])\n",
    "plt.ylim([0, nothing])\n",
    "plt.legend()\n",
    ";"
   ]
  },
  {
   "cell_type": "markdown",
   "metadata": {},
   "source": [
    "### Exercise 2\n",
    "Measure the magnetic susceptibility and compare the results with the exact solution."
   ]
  },
  {
   "cell_type": "markdown",
   "metadata": {},
   "source": [
    "## Type stability of Accumulator\n",
    "\n",
    "Type safe is an important concept to achieve high performance with Julia (see [officitial document](https://docs.julialang.org/en/v1/manual/performance-tips/)).\n",
    "Actually, the Accumulator class implemented above is NOT type safe.\n",
    "Let us see how crtitical it is and how to improve on it.\n",
    "A convinient way to check the type stability of your code is using @code_warntype macro."
   ]
  },
  {
   "cell_type": "code",
   "execution_count": 10,
   "metadata": {},
   "outputs": [
    {
     "name": "stdout",
     "output_type": "stream",
     "text": [
      "Variables\n",
      "  #self#\u001b[36m::Core.Compiler.Const(Main.Meas.add!, false)\u001b[39m\n",
      "  acc\u001b[36m::Main.Meas.Accumulator\u001b[39m\n",
      "  name\u001b[36m::String\u001b[39m\n",
      "  data\u001b[36m::Array{Float64,1}\u001b[39m\n",
      "\n",
      "Body\u001b[91m\u001b[1m::Any\u001b[22m\u001b[39m\n",
      "\u001b[90m1 ─\u001b[39m %1  = Base.getproperty(acc, :count)\u001b[36m::Dict{String,UInt64}\u001b[39m\n",
      "\u001b[90m│  \u001b[39m %2  = Main.Meas.haskey(%1, name)\u001b[36m::Bool\u001b[39m\n",
      "\u001b[90m└──\u001b[39m       goto #3 if not %2\n",
      "\u001b[90m2 ─\u001b[39m %4  = Base.getproperty(acc, :count)\u001b[36m::Dict{String,UInt64}\u001b[39m\n",
      "\u001b[90m│  \u001b[39m %5  = Base.getindex(%4, name)\u001b[36m::UInt64\u001b[39m\n",
      "\u001b[90m│  \u001b[39m %6  = (%5 + 1)\u001b[36m::UInt64\u001b[39m\n",
      "\u001b[90m│  \u001b[39m %7  = Base.getproperty(acc, :count)\u001b[36m::Dict{String,UInt64}\u001b[39m\n",
      "\u001b[90m│  \u001b[39m       Base.setindex!(%7, %6, name)\n",
      "\u001b[90m│  \u001b[39m %9  = Base.getproperty(acc, :data)\u001b[36m::Dict{String,Any}\u001b[39m\n",
      "\u001b[90m│  \u001b[39m %10 = Base.getindex(%9, name)\u001b[91m\u001b[1m::Any\u001b[22m\u001b[39m\n",
      "\u001b[90m│  \u001b[39m %11 = (%10 + data)\u001b[91m\u001b[1m::Any\u001b[22m\u001b[39m\n",
      "\u001b[90m│  \u001b[39m %12 = Base.getproperty(acc, :data)\u001b[36m::Dict{String,Any}\u001b[39m\n",
      "\u001b[90m│  \u001b[39m       Base.setindex!(%12, %11, name)\n",
      "\u001b[90m└──\u001b[39m       return %11\n",
      "\u001b[90m3 ─\u001b[39m %15 = Base.getproperty(acc, :count)\u001b[36m::Dict{String,UInt64}\u001b[39m\n",
      "\u001b[90m│  \u001b[39m       Base.setindex!(%15, 1, name)\n",
      "\u001b[90m│  \u001b[39m %17 = Main.Meas.copy(data)\u001b[36m::Array{Float64,1}\u001b[39m\n",
      "\u001b[90m│  \u001b[39m %18 = Base.getproperty(acc, :data)\u001b[36m::Dict{String,Any}\u001b[39m\n",
      "\u001b[90m│  \u001b[39m       Base.setindex!(%18, %17, name)\n",
      "\u001b[90m└──\u001b[39m       return %17\n"
     ]
    }
   ],
   "source": [
    "acc = Meas.Accumulator()\n",
    "@code_warntype Meas.add!(acc, \"obs1\", ones(4)) "
   ]
  },
  {
   "cell_type": "markdown",
   "metadata": {},
   "source": [
    "In the above cells, you see many **Any**, which means that the Julia compiler failed to determine the type of some variable.\n",
    "It is always about **striking a balance between performance and readability**.\n",
    "Although I usually prefer the latter, it's your choice.\n",
    "Let us see how badly the type instability affects the performance!"
   ]
  },
  {
   "cell_type": "code",
   "execution_count": 11,
   "metadata": {},
   "outputs": [
    {
     "data": {
      "text/plain": [
       "BenchmarkTools.Trial: \n",
       "  memory estimate:  896 bytes\n",
       "  allocs estimate:  1\n",
       "  --------------\n",
       "  minimum time:     225.899 ns (0.00% GC)\n",
       "  median time:      231.107 ns (0.00% GC)\n",
       "  mean time:        249.954 ns (5.54% GC)\n",
       "  maximum time:     2.505 μs (87.70% GC)\n",
       "  --------------\n",
       "  samples:          10000\n",
       "  evals/sample:     464"
      ]
     },
     "execution_count": 11,
     "metadata": {},
     "output_type": "execute_result"
    }
   ],
   "source": [
    "obs_val = ones(Float64, 100)\n",
    "@benchmark Meas.add!(acc, \"obs1\", obs_val) "
   ]
  },
  {
   "cell_type": "markdown",
   "metadata": {},
   "source": [
    "You can see that measuring a Float64 vector with 100 elements takes only 400 ns.\n",
    "This unlikely affects the overall performance in practical calculation.\n",
    "However, if you are unhappy with any type instability (and small memory allocation), you could improve on it like this:"
   ]
  },
  {
   "cell_type": "code",
   "execution_count": 12,
   "metadata": {},
   "outputs": [],
   "source": [
    "# Contribution from Markus Wallerberger at TU Wien\n",
    "module Meas2\n",
    "\n",
    "mutable struct Accumulator{T}\n",
    "    count::UInt64\n",
    "    data::T\n",
    "end\n",
    "\n",
    "\"\"\"\n",
    "Constructor\n",
    "\"\"\"\n",
    "Accumulator(initial::T) where T = Accumulator(UInt64(1), initial)\n",
    "\n",
    "\n",
    "\"\"\"\n",
    "Add a sample\n",
    "\"\"\"\n",
    "function add!(acc::Accumulator, data)\n",
    "    acc.count += 1\n",
    "    acc.data .+= data\n",
    "end\n",
    "\n",
    "\"\"\"\n",
    "Compuate mean\n",
    "\"\"\"\n",
    "function mean(acc::Accumulator)\n",
    "    return acc.data/acc.count\n",
    "end\n",
    "\n",
    "end\n",
    "\n",
    "# Perform some tests\n",
    "let\n",
    "    acc = Meas2.Accumulator(ones(4))\n",
    "    Meas2.add!(acc, 2 .* ones(4))\n",
    "    @assert Meas2.mean(acc) ≈ 1.5 .* ones(4)\n",
    "end"
   ]
  },
  {
   "cell_type": "code",
   "execution_count": 13,
   "metadata": {},
   "outputs": [
    {
     "name": "stdout",
     "output_type": "stream",
     "text": [
      "Variables\n",
      "  #self#\u001b[36m::Core.Compiler.Const(Main.Meas2.add!, false)\u001b[39m\n",
      "  acc\u001b[36m::Main.Meas2.Accumulator{Array{Float64,1}}\u001b[39m\n",
      "  data\u001b[36m::Array{Float64,1}\u001b[39m\n",
      "\n",
      "Body\u001b[36m::Array{Float64,1}\u001b[39m\n",
      "\u001b[90m1 ─\u001b[39m %1 = Base.getproperty(acc, :count)\u001b[36m::UInt64\u001b[39m\n",
      "\u001b[90m│  \u001b[39m %2 = (%1 + 1)\u001b[36m::UInt64\u001b[39m\n",
      "\u001b[90m│  \u001b[39m      Base.setproperty!(acc, :count, %2)\n",
      "\u001b[90m│  \u001b[39m %4 = Base.getproperty(acc, :data)\u001b[36m::Array{Float64,1}\u001b[39m\n",
      "\u001b[90m│  \u001b[39m %5 = Base.broadcasted(Main.Meas2.:+, %4, data)\u001b[36m::Base.Broadcast.Broadcasted{Base.Broadcast.DefaultArrayStyle{1},Nothing,typeof(+),Tuple{Array{Float64,1},Array{Float64,1}}}\u001b[39m\n",
      "\u001b[90m│  \u001b[39m %6 = Base.materialize!(%4, %5)\u001b[36m::Array{Float64,1}\u001b[39m\n",
      "\u001b[90m└──\u001b[39m      return %6\n"
     ]
    },
    {
     "data": {
      "text/plain": [
       "BenchmarkTools.Trial: \n",
       "  memory estimate:  0 bytes\n",
       "  allocs estimate:  0\n",
       "  --------------\n",
       "  minimum time:     62.598 ns (0.00% GC)\n",
       "  median time:      75.908 ns (0.00% GC)\n",
       "  mean time:        80.163 ns (0.00% GC)\n",
       "  maximum time:     309.749 ns (0.00% GC)\n",
       "  --------------\n",
       "  samples:          10000\n",
       "  evals/sample:     973"
      ]
     },
     "execution_count": 13,
     "metadata": {},
     "output_type": "execute_result"
    }
   ],
   "source": [
    "obs_val = ones(Float64, 100)\n",
    "acc2 = Meas2.Accumulator(obs_val)\n",
    "@code_warntype Meas2.add!(acc2, obs_val)\n",
    "@benchmark Meas2.add!(acc2, obs_val)"
   ]
  },
  {
   "cell_type": "markdown",
   "metadata": {},
   "source": [
    "The type instability and memory allocation have been removed at the price that\n",
    "you need to create an Accumulator object for each observable.\n",
    "Which one do you like more? It's up to you.\n",
    "\n",
    "This improved version can be used with a dictionary as follows."
   ]
  },
  {
   "cell_type": "code",
   "execution_count": 14,
   "metadata": {},
   "outputs": [
    {
     "data": {
      "text/plain": [
       "BenchmarkTools.Trial: \n",
       "  memory estimate:  0 bytes\n",
       "  allocs estimate:  0\n",
       "  --------------\n",
       "  minimum time:     95.276 ns (0.00% GC)\n",
       "  median time:      116.882 ns (0.00% GC)\n",
       "  mean time:        120.441 ns (0.00% GC)\n",
       "  maximum time:     535.732 ns (0.00% GC)\n",
       "  --------------\n",
       "  samples:          10000\n",
       "  evals/sample:     942"
      ]
     },
     "execution_count": 14,
     "metadata": {},
     "output_type": "execute_result"
    }
   ],
   "source": [
    "meas = Dict{String,Any}()\n",
    "meas[\"obs1\"] = Meas2.Accumulator(obs_val)\n",
    "@benchmark Meas2.add!(meas[\"obs1\"], obs_val)"
   ]
  }
 ],
 "metadata": {
  "kernelspec": {
   "display_name": "Julia 1.5.2",
   "language": "julia",
   "name": "julia-1.5"
  },
  "language_info": {
   "file_extension": ".jl",
   "mimetype": "application/julia",
   "name": "julia",
   "version": "1.5.2"
  }
 },
 "nbformat": 4,
 "nbformat_minor": 4
}
